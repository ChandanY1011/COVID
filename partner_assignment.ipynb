{
 "cells": [
  {
   "cell_type": "code",
   "execution_count": null,
   "metadata": {},
   "outputs": [],
   "source": [
    "import pandas as pd\n",
    "import numpy as np\n",
    "import datetime as dt\n",
    "from settings import EARTH_RADIUS,moderator_list,server_type\n",
    "from connections import connections,write_query\n",
    "from database_entry import send_sms\n",
    "from data_fetching import request_data_by_uuid\n",
    "import uuid"
   ]
  },
  {
   "cell_type": "code",
   "execution_count": null,
   "metadata": {},
   "outputs": [],
   "source": [
    "\n",
    "def get_haversine_distance(start_lat, start_lng, end_lat, end_lng, units='km'):\n",
    "    try:\n",
    "        # convert decimal degrees to radians\n",
    "        lon1, lat1, lon2, lat2 = map(np.radians, [start_lng, start_lat, end_lng, end_lat])\n",
    "    \n",
    "        # haversine formula\n",
    "        dlon = lon2 - lon1\n",
    "        dlat = lat2 - lat1\n",
    "        a = (np.sin(dlat / 2) ** 2 + np.cos(lat1) *\n",
    "             np.cos(lat2) * np.sin(dlon / 2) ** 2)\n",
    "        c = 2 * np.arcsin(np.sqrt(a))\n",
    "    \n",
    "        distance = EARTH_RADIUS * c\n",
    "        if units=='m':\n",
    "            return distance\n",
    "        else:\n",
    "            return distance / 1000.0\n",
    "    except:\n",
    "        raise\n",
    "        return None"
   ]
  },
  {
   "cell_type": "code",
   "execution_count": null,
   "metadata": {},
   "outputs": [],
   "source": [
    "#Send message to all volunteers within 1km - to accept request\n",
    "#Send message to all volunteers within 10kms - to help looking for volunteer\n",
    "#Send message to all moderators about the both\n",
    "def message_all_volunteers(lat,lon,radius,search_radius,uuid):\n",
    "    v_list_q = \"\"\"Select id as v_id,mob_number,name, latitude,longitude from volunteers where status=1\"\"\"\n",
    "    v_list = pd.read_sql(v_list_q,connections('prod_db_read'))\n",
    "    v_list['dist'] = get_haversine_distance(lat,lon,v_list['latitude'],v_list['longitude'])\n",
    "    v_list = v_list.sort_values(by='dist',ascending=True)\n",
    "    r_df = request_data_by_uuid(uuid)\n",
    "    r_id = r_df.loc[0,'r_id']\n",
    "    v_ids = pd.DataFrame()\n",
    "    df = pd.DataFrame()\n",
    "    df2 = pd.DataFrame()\n",
    "    count=0\n",
    "    for i in v_list.index:\n",
    "        if(v_list.loc[i,'dist']<radius):\n",
    "            link = \"https://wa.me/918618948661?text=Hi%20I%20will%20help\"\n",
    "#             link = \"covidsos.org/accept/\"+uuid+\"/\"+v_list.loc[i,'mob_number']\n",
    "            sms_text = '[COVIDSOS] Dear, '+v_list.loc[i,'name']+' someone in your area needs help. Request #'+(r_df.loc[0,'r_id'])+' Message us if you can volunteer '+link\n",
    "            sms_to = int(v_list.loc[i,'mob_number'])\n",
    "            df = df.append(v_list.loc[i,['v_id']])\n",
    "            if(server_type=='prod'):\n",
    "                send_sms(sms_text,sms_to,sms_type='transactional',send=True)\n",
    "                print('SMS sent')\n",
    "            else:\n",
    "                print('Sending sms:',sms_text,' to ',str(sms_to))\n",
    "        if((v_list.loc[i,'dist']>radius)&(v_list.loc[i,'dist']<search_radius)):\n",
    "            count = count +1\n",
    "            if(count>20):\n",
    "                break\n",
    "            link = \"https://wa.me/918618948661?text=Refer\"\n",
    "            sms_text = '[COVIDSOS] Request #'+str(r_df.loc[0,'r_id'])+'. Volunteer needed in '+r_df.loc[0,'geoaddress'][0:40]+'. Please refer someone who can help '+link\n",
    "            sms_to=int(v_list.loc[i,'mob_number'])\n",
    "            df2 = df2.append(v_list.loc[i,['v_id']])\n",
    "            if(server_type=='prod'):\n",
    "                send_sms(sms_text,sms_to,sms_type='transactional',send=True)\n",
    "                print('SMS sent')\n",
    "            else:\n",
    "                print('Sending sms:',sms_text,' to ',str(sms_to))\n",
    "    df['r_id']=r_id\n",
    "    df['status']='pending'\n",
    "    print(v_list)\n",
    "    print(df)\n",
    "    print(df2)\n",
    "    if(server_type=='prod'):\n",
    "        engine = connections('prod_db_write')\n",
    "        df.to_sql(name = 'nearby_volunteers', con = engine, schema='covidsos', if_exists='append', index = False,index_label=None)\n",
    "    mod_sms_text = \"New request received. Sent to \"+str(df.shape[0])+\" nearby Volunteers and \"+str(df2.shape[0])+\" volunteers further away\"\n",
    "    mod_sms_text_2 = \"New Request Name: \"+r_df.loc[0,'name']+\" Address: \"+r_df.loc[0,'geoaddress'][0:50]+\" Mob: \"+str(r_df.loc[0,'mob_number'])+\" Req:\"+r_df.loc[0,'request']\n",
    "    for i_number in moderator_list:\n",
    "        if(server_type=='prod'):\n",
    "            send_sms(mod_sms_text,sms_to=int(i_number),sms_type='transactional',send=True)\n",
    "            send_sms(mod_sms_text_2,sms_to=int(i_number),sms_type='transactional',send=True)\n",
    "            print('SMS sent')\n",
    "            print('SMS sent')\n",
    "        else:\n",
    "            print('Sending sms:',mod_sms_text,' to ',str(i_number))\n",
    "            print('Sending sms:',mod_sms_text_2,' to ',str(i_number))\n",
    "    return None\n"
   ]
  },
  {
   "cell_type": "code",
   "execution_count": null,
   "metadata": {
    "scrolled": true
   },
   "outputs": [],
   "source": []
  },
  {
   "cell_type": "code",
   "execution_count": null,
   "metadata": {},
   "outputs": [],
   "source": [
    "def volunteer_accept(uuid,mob_number):\n",
    "    v_list_q = \"\"\"Select id as v_id,name as full_name from volunteers where mob_number='{mob_number}'\"\"\".format(mob_number=mob_number)\n",
    "    v_list = pd.read_sql(v_list_q,connections('prod_db_read'))\n",
    "    v_id = v_list.loc[0,'v_id']\n",
    "\n",
    "    r_id_q = \"\"\"Select id as r_id, mob_number as mob_number from requests where uuid='{uuid_str}'\"\"\".format(uuid_str=uuid)\n",
    "    "
   ]
  },
  {
   "cell_type": "code",
   "execution_count": null,
   "metadata": {},
   "outputs": [],
   "source": [
    "def generate_uuid():\n",
    "    uuid_key = str(uuid.uuid4()).replace('-', '')\n",
    "    return uuid_key\n"
   ]
  },
  {
   "cell_type": "code",
   "execution_count": null,
   "metadata": {},
   "outputs": [],
   "source": [
    "def assignment_link(r_id):\n",
    "    v_list_q = \"\"\"Select id as v_id,mob_number,name, latitude,longitude from volunteers where status=1\"\"\"\n",
    "    v_list = pd.read_sql(v_list_q,connections('prod_db_read'))\n",
    "    v_list['dist'] = get_haversine_distance(lat,lon,)\n",
    "    v_list = v_list.sort_values(by='dist',ascending=True)\n",
    "    for i in v_list.index:\n",
    "        if(v_list.loc[i,'dist']<'radius'):\n",
    "            sms_text = 'Dear, '+v_list.loc[i,'name']+' someone in your area needs help. Click here to help '+link\n",
    "            send_sms(sms_text,sms_to=v_list.loc[i,'mob_number'],sms_type='transactional',send=True)\n",
    "    #incomplete\n",
    "    return None\n",
    "    "
   ]
  }
 ],
 "metadata": {
  "kernelspec": {
   "display_name": "Python 3",
   "language": "python",
   "name": "python3"
  },
  "language_info": {
   "codemirror_mode": {
    "name": "ipython",
    "version": 3
   },
   "file_extension": ".py",
   "mimetype": "text/x-python",
   "name": "python",
   "nbconvert_exporter": "python",
   "pygments_lexer": "ipython3",
   "version": "3.7.6"
  }
 },
 "nbformat": 4,
 "nbformat_minor": 4
}
