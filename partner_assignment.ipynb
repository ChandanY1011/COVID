{
 "cells": [
  {
   "cell_type": "code",
   "execution_count": 2,
   "metadata": {},
   "outputs": [],
   "source": [
    "import pandas as pd\n",
    "import numpy as np\n",
    "import datetime as dt\n",
    "from settings import EARTH_RADIUS,moderator_list\n",
    "from connections import connections,write_query\n",
    "from database_entry import send_sms\n",
    "from data_fetching import request_data_by_uuid\n",
    "import uuid"
   ]
  },
  {
   "cell_type": "code",
   "execution_count": null,
   "metadata": {},
   "outputs": [],
   "source": [
    "\n",
    "def get_haversine_distance(start_lat, start_lng, end_lat, end_lng, units='km'):\n",
    "    try:\n",
    "        # convert decimal degrees to radians\n",
    "        lon1, lat1, lon2, lat2 = map(np.radians, [start_lng, start_lat, end_lng, end_lat])\n",
    "    \n",
    "        # haversine formula\n",
    "        dlon = lon2 - lon1\n",
    "        dlat = lat2 - lat1\n",
    "        a = (np.sin(dlat / 2) ** 2 + np.cos(lat1) *\n",
    "             np.cos(lat2) * np.sin(dlon / 2) ** 2)\n",
    "        c = 2 * np.arcsin(np.sqrt(a))\n",
    "    \n",
    "        distance = settings.EARTH_RADIUS * c\n",
    "        if units=='m':\n",
    "            return distance\n",
    "        else:\n",
    "            return distance / 1000.0\n",
    "    except:\n",
    "        return None"
   ]
  },
  {
   "cell_type": "code",
   "execution_count": null,
   "metadata": {},
   "outputs": [],
   "source": [
    "def message_all_volunteers(lat,lon,radius,uuid):\n",
    "    v_list_q = \"\"\"Select id as v_id,mob_number,name, latitude,longitude from volunteers where status=1\"\"\"\n",
    "    v_list = pd.read_sql(v_list_q,connections('prod_db_read'))\n",
    "    v_list['dist'] = get_haversine_distance(lat,lon,v_list['latitude'],v_list['longitude'])\n",
    "    v_list = v_list.sort_values(by='dist',ascending=True)\n",
    "    r_df = request_data_by_uuid(uuid)\n",
    "    r_id = r_df.loc[0,'r_id']\n",
    "    v_ids = pd.DataFrame()\n",
    "    for i in v_list.index:\n",
    "        if(v_list.loc[i,'dist']<radius):\n",
    "            link = \"covidsos.org/accept/\"+uuid+\"/\"+v_list.loc[i,'mob_number']\n",
    "            sms_text = '[COVIDSOS] Dear, '+v_list.loc[i,'name']+' someone in your area needs help. Click here to help '+link\n",
    "            send_sms(sms_text,sms_to=int(v_list.loc[i,'mob_number']),sms_type='transactional',send=True)\n",
    "            df = df.append(v_list.loc[i,['v_id']])\n",
    "    if(v_list.shape[0]>0):\n",
    "        mod_sms_text = \"New request received. Forwarded to \"+v_list.shape[0]+\" Volunteers\"\n",
    "        for i_number in moderator_list:\n",
    "            send_sms(mod_sms_text,sms_to=int(i_number),sms_type='transactional',send=True)\n",
    "        df['r_id']=r_id\n",
    "        df['status']='pending'\n",
    "        df.to_sql(name = 'nearby_volunteers', con = engine, schema='covidsos', if_exists='append', index = False,index_label=None)\n",
    "    else:\n",
    "        mod_sms_text = \" No nearby volunteers found for new request from \"+r_df.oc[0,'geoaddress'],+\"Mob: \"+r_df.loc[0,'mob_number']\n",
    "        for i_number in moderator_list:\n",
    "            send_sms(mod_sms_text,sms_to=int(i_number),sms_type='transactional',send=True)\n",
    "    return None\n"
   ]
  },
  {
   "cell_type": "code",
   "execution_count": null,
   "metadata": {},
   "outputs": [],
   "source": []
  },
  {
   "cell_type": "code",
   "execution_count": null,
   "metadata": {},
   "outputs": [],
   "source": [
    "def volunteer_accept(uuid,mob_number):\n",
    "    v_list_q = \"\"\"Select id as v_id,name as full_name from volunteers where mob_number='{mob_number}'\"\"\".format(mob_number=mob_number)\n",
    "    v_list = pd.read_sql(v_list_q,connections('prod_db_read'))\n",
    "    v_id = v_list.loc[0,'v_id']\n",
    "\n",
    "    r_id_q = \"\"\"Select id as r_id, mob_number as mob_number from requests where uuid='{uuid_str}'\"\"\".format(uuid_str=uuid)\n",
    "    "
   ]
  },
  {
   "cell_type": "code",
   "execution_count": null,
   "metadata": {},
   "outputs": [],
   "source": []
  },
  {
   "cell_type": "code",
   "execution_count": null,
   "metadata": {},
   "outputs": [],
   "source": [
    "def generate_uuid():\n",
    "    uuid_key = str(uuid.uuid4()).replace('-', '')\n",
    "    return uuid_key\n"
   ]
  },
  {
   "cell_type": "code",
   "execution_count": null,
   "metadata": {},
   "outputs": [],
   "source": [
    "def assignment_link(r_id):\n",
    "    v_list_q = \"\"\"Select id as v_id,mob_number,name, latitude,longitude from volunteers where status=1\"\"\"\n",
    "    v_list = pd.read_sql(v_list_q,connections('prod_db_read'))\n",
    "    v_list['dist'] = get_haversine_distance(lat,lon,)\n",
    "    v_list = v_list.sort_values(by='dist',ascending=True)\n",
    "    for i in v_list.index:\n",
    "        if(v_list.loc[i,'dist']<'radius'):\n",
    "            sms_text = 'Dear, '+v_list.loc[i,'name']+' someone in your area needs help. Click here to help '+link\n",
    "            send_sms(sms_text,sms_to=v_list.loc[i,'mob_number'],sms_type='transactional',send=True)\n",
    "    #incomplete\n",
    "    return None\n",
    "    "
   ]
  }
 ],
 "metadata": {
  "kernelspec": {
   "display_name": "Python 3",
   "language": "python",
   "name": "python3"
  },
  "language_info": {
   "codemirror_mode": {
    "name": "ipython",
    "version": 3
   },
   "file_extension": ".py",
   "mimetype": "text/x-python",
   "name": "python",
   "nbconvert_exporter": "python",
   "pygments_lexer": "ipython3",
   "version": "3.7.6"
  }
 },
 "nbformat": 4,
 "nbformat_minor": 4
}
