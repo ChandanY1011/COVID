{
 "cells": [
  {
   "cell_type": "code",
   "execution_count": 2,
   "metadata": {},
   "outputs": [],
   "source": [
    "import pandas as pd\n",
    "import numpy as np\n",
    "import datetime as dt\n",
    "from settings import EARTH_RADIUS\n",
    "from connections import connections,write_query\n",
    "from database_entry import send_sms\n",
    "import uuid"
   ]
  },
  {
   "cell_type": "code",
   "execution_count": null,
   "metadata": {},
   "outputs": [],
   "source": []
  },
  {
   "cell_type": "code",
   "execution_count": null,
   "metadata": {},
   "outputs": [],
   "source": [
    "\n",
    "def get_haversine_distance(start_lat, start_lng, end_lat, end_lng, units='km'):\n",
    "    try:\n",
    "        # convert decimal degrees to radians\n",
    "        lon1, lat1, lon2, lat2 = map(np.radians, [start_lng, start_lat, end_lng, end_lat])\n",
    "    \n",
    "        # haversine formula\n",
    "        dlon = lon2 - lon1\n",
    "        dlat = lat2 - lat1\n",
    "        a = (np.sin(dlat / 2) ** 2 + np.cos(lat1) *\n",
    "             np.cos(lat2) * np.sin(dlon / 2) ** 2)\n",
    "        c = 2 * np.arcsin(np.sqrt(a))\n",
    "    \n",
    "        distance = settings.EARTH_RADIUS * c\n",
    "        if units=='m':\n",
    "            return distance\n",
    "        else:\n",
    "            return distance / 1000.0\n",
    "    except:\n",
    "        return None"
   ]
  },
  {
   "cell_type": "code",
   "execution_count": null,
   "metadata": {},
   "outputs": [],
   "source": [
    "def auto_assign_volunteer(lat,lon,link):\n",
    "    v_list_q = \"\"\"Select id as v_id,mob_number,name, latitude,longitude from volunteers where status=1\"\"\"\n",
    "    v_list = pd.read_sql(v_list_q,connections('prod_db_read'))\n",
    "    v_list['dist'] = get_haversine_distance(lat,lon,)\n",
    "    v_list = v_list.sort_values(by='dist',ascending=True)\n",
    "    for i in v_list.index:\n",
    "        if(v_list.loc[i,'dist']<'radius'):\n",
    "            sms_text = 'Dear, '+v_list.loc[i,'name']+' someone in your area needs help. Click here to help '+link\n",
    "            send_sms(sms_text,sms_to=v_list.loc[i,'mob_number'],sms_type='transactional',send=True)\n",
    "    #incomplete\n",
    "    return None\n",
    "    "
   ]
  },
  {
   "cell_type": "code",
   "execution_count": null,
   "metadata": {},
   "outputs": [],
   "source": [
    "def generate_uuid():\n",
    "    uuid_key = str(uuid.uuid4()).replace('-', '')\n",
    "    return uuid_key\n"
   ]
  },
  {
   "cell_type": "code",
   "execution_count": null,
   "metadata": {},
   "outputs": [],
   "source": [
    "def assignment_link(r_id):\n",
    "    v_list_q = \"\"\"Select id as v_id,mob_number,name, latitude,longitude from volunteers where status=1\"\"\"\n",
    "    v_list = pd.read_sql(v_list_q,connections('prod_db_read'))\n",
    "    v_list['dist'] = get_haversine_distance(lat,lon,)\n",
    "    v_list = v_list.sort_values(by='dist',ascending=True)\n",
    "    for i in v_list.index:\n",
    "        if(v_list.loc[i,'dist']<'radius'):\n",
    "            sms_text = 'Dear, '+v_list.loc[i,'name']+' someone in your area needs help. Click here to help '+link\n",
    "            send_sms(sms_text,sms_to=v_list.loc[i,'mob_number'],sms_type='transactional',send=True)\n",
    "    #incomplete\n",
    "    return None\n",
    "    "
   ]
  }
 ],
 "metadata": {
  "kernelspec": {
   "display_name": "Python 3",
   "language": "python",
   "name": "python3"
  },
  "language_info": {
   "codemirror_mode": {
    "name": "ipython",
    "version": 3
   },
   "file_extension": ".py",
   "mimetype": "text/x-python",
   "name": "python",
   "nbconvert_exporter": "python",
   "pygments_lexer": "ipython3",
   "version": "3.7.6"
  }
 },
 "nbformat": 4,
 "nbformat_minor": 4
}
