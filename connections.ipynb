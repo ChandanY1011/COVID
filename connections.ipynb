{
 "cells": [
  {
   "cell_type": "code",
   "execution_count": 1,
   "metadata": {},
   "outputs": [],
   "source": [
    "\n",
    "#DB Connections\n",
    "import mysql.connector as sql_con\n",
    "from sqlalchemy import create_engine\n",
    "import cred_config as cc\n",
    "import ftplib"
   ]
  },
  {
   "cell_type": "code",
   "execution_count": 2,
   "metadata": {},
   "outputs": [],
   "source": [
    "def connections(con_name):\n",
    "    if(con_name=='db_read'):\n",
    "        cred_r=cc.credentials['covid_sos_read']\n",
    "        server_con = sql_con.connect(user=cred_r['user'], password=cred_r['password'], host=cred_r['host'],database=cred_r['database'])\n",
    "    if(con_name=='db_write'):\n",
    "        cred_w = cc.credentials['covid_sos_write']\n",
    "        server_con = create_engine(\"mysql+pymysql://{user}:{password}@{host}/{database}\".format(user = cred_w['user'], password = cred_w['password'], host = cred_w['host'], database = cred_w['database']), pool_size=10, max_overflow=20, echo=False)\n",
    "    if(con_name=='ftp'):\n",
    "        FTP_con = cc.credentials['ftp']\n",
    "        server_con = ftplib.FTP(host=FTP_con['host'], user=FTP_con['user'], passwd=FTP_con['password'])\n",
    "    return server_con\n",
    "\n",
    "def keys(api_name):\n",
    "    if(api_name=='gmap'):\n",
    "        gmap_key = cc.credentials['gmap']['key']\n",
    "    return gmap_key"
   ]
  },
  {
   "cell_type": "code",
   "execution_count": null,
   "metadata": {},
   "outputs": [],
   "source": []
  }
 ],
 "metadata": {
  "kernelspec": {
   "display_name": "Python 3",
   "language": "python",
   "name": "python3"
  },
  "language_info": {
   "codemirror_mode": {
    "name": "ipython",
    "version": 3
   },
   "file_extension": ".py",
   "mimetype": "text/x-python",
   "name": "python",
   "nbconvert_exporter": "python",
   "pygments_lexer": "ipython3",
   "version": "3.7.6"
  }
 },
 "nbformat": 4,
 "nbformat_minor": 4
}
