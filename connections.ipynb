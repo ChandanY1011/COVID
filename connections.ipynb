{
 "cells": [
  {
   "cell_type": "code",
   "execution_count": null,
   "metadata": {},
   "outputs": [],
   "source": [
    "\n",
    "#DB Connections\n",
    "import mysql.connector as sql_con\n",
    "from sqlalchemy import create_engine\n",
    "import cred_config as cc\n",
    "import ftplib\n",
    "from settings import server_type\n",
    "from sqlalchemy.sql import text\n"
   ]
  },
  {
   "cell_type": "code",
   "execution_count": null,
   "metadata": {},
   "outputs": [],
   "source": [
    "def connections(con_name):\n",
    "    if(con_name=='prod_db_read'):\n",
    "        if(server_type=='local'):\n",
    "            cred_r=cc.credentials['covidsos.org-local']\n",
    "            server_con = sql_con.connect(user=cred_r['user'], password=cred_r['password'], host=cred_r['host'],database=cred_r['database'])\n",
    "        elif(server_type=='prod'):\n",
    "            cred_r=cc.credentials['covidsos.org-prod']\n",
    "            server_con = sql_con.connect(user=cred_r['user'], password=cred_r['password'], host=cred_r['host'],database=cred_r['database'])\n",
    "        elif(server_type=='staging'):\n",
    "            cred_r=cc.credentials['covidsos.org-staging']\n",
    "            server_con = sql_con.connect(user=cred_r['user'], password=cred_r['password'], host=cred_r['host'],database=cred_r['database'])\n",
    "    if(con_name=='prod_db_write'):\n",
    "        if(server_type=='local'):\n",
    "            cred_w=cc.credentials['covidsos.org-local']\n",
    "            server_con = create_engine(\"mysql+pymysql://{user}:{password}@{host}/{database}\".format(user = cred_w['user'], password = cred_w['password'], host = cred_w['host'], database = cred_w['database']), pool_size=10, max_overflow=20, echo=False)\n",
    "        elif(server_type=='prod'):\n",
    "            cred_w=cc.credentials['covidsos.org-prod']\n",
    "            server_con = create_engine(\"mysql+pymysql://{user}:{password}@{host}/{database}\".format(user = cred_w['user'], password = cred_w['password'], host = cred_w['host'], database = cred_w['database']), pool_size=10, max_overflow=20, echo=False)\n",
    "        elif(server_type=='staging'):\n",
    "            cred_w=cc.credentials['covidsos.org-staging']\n",
    "            server_con = create_engine(\"mysql+pymysql://{user}:{password}@{host}/{database}\".format(user = cred_w['user'], password = cred_w['password'], host = cred_w['host'], database = cred_w['database']), pool_size=10, max_overflow=20, echo=False)\n",
    "    if(con_name=='db_read'):\n",
    "        cred_r=cc.credentials['covid_sos_read']\n",
    "        server_con = sql_con.connect(user=cred_r['user'], password=cred_r['password'], host=cred_r['host'],database=cred_r['database'])\n",
    "    if(con_name=='db_write'):\n",
    "        cred_w = cc.credentials['covid_sos_write']\n",
    "        server_con = create_engine(\"mysql+pymysql://{user}:{password}@{host}/{database}\".format(user = cred_w['user'], password = cred_w['password'], host = cred_w['host'], database = cred_w['database']), pool_size=10, max_overflow=20, echo=False)\n",
    "    if(con_name=='ftp'):\n",
    "        FTP_con = cc.credentials['ftp']\n",
    "        server_con = ftplib.FTP(host=FTP_con['host'], user=FTP_con['user'], passwd=FTP_con['password'])\n",
    "    return server_con\n",
    "\n",
    "def keys(api_name):\n",
    "    if(api_name=='gmap'):\n",
    "        gmap_key = cc.credentials['gmap']['key']\n",
    "    return gmap_key"
   ]
  },
  {
   "cell_type": "code",
   "execution_count": null,
   "metadata": {},
   "outputs": [],
   "source": [
    "def write_query(q,server_name):\n",
    "    if((server_name=='prod_db_write') or (server_name=='db_write')):\n",
    "        engine = connections(server_name)\n",
    "        with engine.connect() as con:\n",
    "            query = text(q)\n",
    "            con.execute(query)\n",
    "    return None"
   ]
  },
  {
   "cell_type": "code",
   "execution_count": null,
   "metadata": {},
   "outputs": [],
   "source": []
  }
 ],
 "metadata": {
  "kernelspec": {
   "display_name": "Python 3",
   "language": "python",
   "name": "python3"
  },
  "language_info": {
   "codemirror_mode": {
    "name": "ipython",
    "version": 3
   },
   "file_extension": ".py",
   "mimetype": "text/x-python",
   "name": "python",
   "nbconvert_exporter": "python",
   "pygments_lexer": "ipython3",
   "version": "3.7.6"
  }
 },
 "nbformat": 4,
 "nbformat_minor": 4
}
