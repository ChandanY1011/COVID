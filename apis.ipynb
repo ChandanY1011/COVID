{
 "cells": [
  {
   "cell_type": "code",
   "execution_count": null,
   "metadata": {},
   "outputs": [],
   "source": [
    "from flask import Flask,request\n",
    "import pandas as pd\n",
    "from connections import connections\n",
    "import datetime as dt\n",
    "\n",
    "from database_entry import add_requests\n",
    "\n",
    "from settings import *\n"
   ]
  },
  {
   "cell_type": "code",
   "execution_count": null,
   "metadata": {},
   "outputs": [],
   "source": [
    "app = Flask(__name__)"
   ]
  },
  {
   "cell_type": "code",
   "execution_count": null,
   "metadata": {},
   "outputs": [],
   "source": [
    "# 1. request help\n",
    "#To Do\n",
    "# 2. volunteer register\n",
    "# 3. org register\n",
    "# 4. login\n",
    "# 5. user register (by you)\n",
    "# 6. get map data - open\n",
    "# 7. get map data - authorised, all details\n",
    "# 8. assign user"
   ]
  },
  {
   "cell_type": "code",
   "execution_count": null,
   "metadata": {},
   "outputs": [],
   "source": [
    "@app.route('/create_volunteer',methods=['POST'])\n",
    "def create_request():\n",
    "    name = request.args['name']\n",
    "    mob_number = request.args['mob_number']\n",
    "    age = request.args['age']\n",
    "    address = request.args['address']\n",
    "    user_request = request.args['request']\n",
    "    latitude = request.args['latitude']\n",
    "    longitude = request.args['longitude']\n",
    "    current_time = dt.datetime.utcnow()+dt.timedelta(minutes=330)\n",
    "    req_dict = {'timestamp':[current_time],'name':[name],'mob_number':[mob_number],'email_id':[''],\n",
    "                'country':['India'],'address':[address],'geoaddress':[address],'latitude':[latitude], 'longitude':[longitude],\n",
    "                'source':['website'],'age':[age],'request':[user_request]}\n",
    "    df = pd.DataFrame(req_dict)\n",
    "    expected_columns=['timestamp', 'name', 'mob_number', 'email_id', 'country', 'address', 'geoaddress', 'latitude', 'longitude', 'source', 'request', 'age']\n",
    "    x,y = add_requests(df)\n",
    "    print(x)\n",
    "    print(y)\n",
    "    return None"
   ]
  },
  {
   "cell_type": "code",
   "execution_count": null,
   "metadata": {
    "scrolled": true
   },
   "outputs": [],
   "source": [
    "if(server=='local'):\n",
    "    if __name__ == '__main__':    \n",
    "        app.run(debug=True,use_reloader=False)\n",
    "\n",
    "if(server=='server'):\n",
    "    if __name__ =='__main__':\n",
    "        app.run()"
   ]
  },
  {
   "cell_type": "code",
   "execution_count": null,
   "metadata": {},
   "outputs": [],
   "source": []
  }
 ],
 "metadata": {
  "kernelspec": {
   "display_name": "Python 3",
   "language": "python",
   "name": "python3"
  },
  "language_info": {
   "codemirror_mode": {
    "name": "ipython",
    "version": 3
   },
   "file_extension": ".py",
   "mimetype": "text/x-python",
   "name": "python",
   "nbconvert_exporter": "python",
   "pygments_lexer": "ipython3",
   "version": "3.7.6"
  }
 },
 "nbformat": 4,
 "nbformat_minor": 4
}
