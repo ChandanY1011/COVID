{
 "cells": [
  {
   "cell_type": "code",
   "execution_count": null,
   "metadata": {},
   "outputs": [],
   "source": [
    "import pandas as pd\n",
    "import datetime as dt\n",
    "from flask import Flask,request,jsonify,json\n",
    "from flask_cors import CORS\n",
    "\n",
    "from connections import connections\n",
    "from database_entry import add_requests,add_volunteers_to_db,contact_us_form_add,verify_user,add_user,request_matching,request_updation,volunteer_updation,check_user\n",
    "\n",
    "from data_fetching import get_ticker_counts,get_private_map_data,get_public_map_data\n",
    "from settings import *\n"
   ]
  },
  {
   "cell_type": "code",
   "execution_count": null,
   "metadata": {},
   "outputs": [],
   "source": [
    "app = Flask(__name__)\n",
    "CORS(app)"
   ]
  },
  {
   "cell_type": "code",
   "execution_count": null,
   "metadata": {},
   "outputs": [],
   "source": [
    "# 1. request help\n",
    "# 2. volunteer register\n",
    "# 3. org register\n",
    "# 4. login\n",
    "# 5. user register (by you)\n",
    "#To Do\n",
    "# 6. get map data - open\n",
    "# 7. get map data - authorised, all details\n",
    "# 8. assign user"
   ]
  },
  {
   "cell_type": "code",
   "execution_count": null,
   "metadata": {},
   "outputs": [],
   "source": [
    "@app.route('/create_request',methods=['POST'])\n",
    "def create_request():\n",
    "    name = request.form.get('name')\n",
    "    mob_number = request.form.get('mob_number')\n",
    "    email_id = request.form.get('email_id')\n",
    "    age = request.form.get('age')\n",
    "    address = request.form.get('address')\n",
    "    user_request = request.form.get('request')\n",
    "    latitude = request.form.get('latitude')\n",
    "    longitude = request.form.get('longitude')\n",
    "    source = request.form.get('source')\n",
    "    status = request.form.get('status')\n",
    "    country = request.form.get('country')\n",
    "    current_time = dt.datetime.utcnow()+dt.timedelta(minutes=330)\n",
    "    req_dict = {'timestamp':[current_time],'name':[name],'mob_number':[mob_number],'email_id':[email_id],\n",
    "                'country':[country],'address':[address],'geoaddress':[address],'latitude':[latitude], 'longitude':[longitude],\n",
    "                'source':[source],'age':[age],'request':[user_request],'status':[status]}\n",
    "    df = pd.DataFrame(req_dict)\n",
    "    df['source'] = df['source'].fillna('covidsos')\n",
    "    df['status'] = df['status'].fillna('pending')\n",
    "    df['email_id'] = df['email_id'].fillna('')\n",
    "    df['country'] = df['country'].fillna('India')\n",
    "    expected_columns=['timestamp', 'name', 'mob_number', 'email_id', 'country', 'address', 'geoaddress', 'latitude', 'longitude', 'source', 'request', 'age','status']\n",
    "    x,y = add_requests(df)\n",
    "    response = {'status':x,'string_response':y}\n",
    "    return json.dumps({'Response':response})"
   ]
  },
  {
   "cell_type": "code",
   "execution_count": null,
   "metadata": {},
   "outputs": [],
   "source": [
    "@app.route('/create_volunteer',methods=['POST'])\n",
    "def add_volunteer():\n",
    "    name = request.form.get('name')\n",
    "    mob_number = request.form.get('mob_number')\n",
    "    email_id = request.form.get('email_id')\n",
    "    address = request.form.get('address')\n",
    "    latitude = request.form.get('latitude')\n",
    "    longitude = request.form.get('longitude')\n",
    "    source = request.form.get('source')\n",
    "    status = request.form.get('status')\n",
    "    country = request.form.get('country')\n",
    "    current_time = dt.datetime.utcnow()+dt.timedelta(minutes=330)\n",
    "    req_dict = {'timestamp':[current_time],'name':[name],'mob_number':[mob_number],'email_id':[email_id],\n",
    "                'country':[country],'address':[address],'geoaddress':[address],'latitude':[latitude], 'longitude':[longitude],\n",
    "                'source':[source],'status':[status]}\n",
    "    df = pd.DataFrame(req_dict)\n",
    "    df['status'] = df['status'].fillna('pending')\n",
    "    df['country'] = df['country'].fillna('India')\n",
    "    expected_columns=['timestamp', 'name','mob_number', 'email_id', 'country', 'address', 'geoaddress', 'latitude', 'longitude','source','status']\n",
    "    x,y = add_volunteers_to_db(df)\n",
    "    response = {'status':x,'string_response':y}\n",
    "    return json.dumps({'Response':response})"
   ]
  },
  {
   "cell_type": "code",
   "execution_count": null,
   "metadata": {},
   "outputs": [],
   "source": [
    "@app.route('/login',methods=['POST'])\n",
    "def login_request():\n",
    "    name = request.form.get('username')\n",
    "    password = request.form.get('password')\n",
    "    response = verify_user(name,password)\n",
    "    return json.dumps({'Response':response})\n"
   ]
  },
  {
   "cell_type": "code",
   "execution_count": null,
   "metadata": {},
   "outputs": [],
   "source": [
    "@app.route('/new_user',methods=['POST'])\n",
    "def new_user():\n",
    "    name = request.form.get('name')\n",
    "    mob_number = request.form.get('mob_number')\n",
    "    email_id = request.form.get('email_id')\n",
    "    password = request.form.get('password')\n",
    "    organisation = request.form.get('organisation')\n",
    "    creator_access_type = request.form.get('creator_access_type')\n",
    "    user_access_type = request.form.get('user_access_type')\n",
    "    creator_user_id = request.form.get('creator_user_id')\n",
    "    print(user_access_type)\n",
    "    current_time = dt.datetime.utcnow()+dt.timedelta(minutes=330)\n",
    "    if(user_access_type=='moderator'):\n",
    "        access_type=2\n",
    "    elif(user_access_type=='viewer'):\n",
    "        access_type=3    \n",
    "    elif(user_access_type=='superuser'):\n",
    "        response = {'status':False,'string_response':'You cannot create superuser'}\n",
    "        return jsonify(Response=response)\n",
    "    else:\n",
    "        response = {'status':False,'string_response':'Invalid access type'}\n",
    "        return jsonify(Response=response)\n",
    "    req_dict = {'creation_date':[current_time],'name':[name],'mob_number':[mob_number],'email_id':[email_id],'organisation':[organisation],'password':[password],'access_type':[access_type],'created_by':creator_user_id}\n",
    "    df = pd.DataFrame(req_dict)\n",
    "    if(creator_access_type=='superuser'):\n",
    "        response = add_user(df)\n",
    "    else:\n",
    "        response = {'status':False,'string_response':'User does not have permission to create new users'}\n",
    "    return json.dumps({'Response':response})\n"
   ]
  },
  {
   "cell_type": "code",
   "execution_count": null,
   "metadata": {},
   "outputs": [],
   "source": [
    "@app.route('/reachout_form',methods=['POST'])\n",
    "def add_org_request():\n",
    "    name = request.form.get('name')\n",
    "    organisation = request.form.get('organisation')\n",
    "    email_id = request.form.get('email_id')\n",
    "    mob_number = request.form.get('mob_number')\n",
    "    current_time = dt.datetime.utcnow()+dt.timedelta(minutes=330)\n",
    "    comments = request.form.get('comments')\n",
    "    req_dict = {'timestamp':[current_time],'name':[name],'organisation':[organisation],'mob_number':[mob_number],'email_id':[email_id],\n",
    "                'source':['website'],'comments':[comments]}\n",
    "    df = pd.DataFrame(req_dict)\n",
    "    expected_columns=['timestamp', 'name','organisation','mob_number','email_id', 'source','comments']\n",
    "    x,y = contact_us_form_add(df)\n",
    "    response = {'status':x,'string_response':y}\n",
    "    return json.dumps({'Response':response})\n"
   ]
  },
  {
   "cell_type": "code",
   "execution_count": null,
   "metadata": {},
   "outputs": [],
   "source": [
    "@app.route('/top_ticker',methods=['POST'])\n",
    "def ticker_counts():\n",
    "    response = get_ticker_counts()\n",
    "    return json.dumps({'Response':response})\n"
   ]
  },
  {
   "cell_type": "code",
   "execution_count": null,
   "metadata": {},
   "outputs": [],
   "source": [
    "@app.route('/private_map_data',methods=['POST'])\n",
    "def private_map_data():\n",
    "    user_id = request.form.get('user_id')\n",
    "#     req_dict = {'username':name,'password':password}\n",
    "#     df = pd.DataFrame(req_dict)\n",
    "    response = check_user('users',user_id)    \n",
    "    if(response['status']):\n",
    "        response = get_private_map_data()\n",
    "    return json.dumps({'Response':response,'status':True,'string_response':'Full data sent'})\n"
   ]
  },
  {
   "cell_type": "code",
   "execution_count": null,
   "metadata": {},
   "outputs": [],
   "source": [
    "@app.route('/public_map_data',methods=['POST'])\n",
    "def public_map_data():\n",
    "    response = get_public_map_data()\n",
    "    return json.dumps({'Response':response,'status':True,'string_response':'Public data sent'})\n"
   ]
  },
  {
   "cell_type": "code",
   "execution_count": null,
   "metadata": {},
   "outputs": [],
   "source": [
    "@app.route('/assign_volunteer',methods=['POST'])\n",
    "def assign_volunteer():\n",
    "    v_id = request.form.get('volunteer_id')\n",
    "    r_id = request.form.get('request_id')\n",
    "    matching_by = request.form.get('matched_by')\n",
    "    current_time = dt.datetime.utcnow()+dt.timedelta(minutes=330)\n",
    "    req_dict = {'volunteer_id':[v_id],'request_id':[r_id],'matching_by':[matching_by],'timestamp':[current_time]}\n",
    "    df = pd.DataFrame(req_dict)\n",
    "    response = request_matching(df)\n",
    "    response_2 = request_updation(r_id,'status','matched',current_time)\n",
    "    return json.dumps({'Response':response})\n"
   ]
  },
  {
   "cell_type": "code",
   "execution_count": null,
   "metadata": {},
   "outputs": [],
   "source": [
    "@app.route('/update_request',methods=['POST'])\n",
    "def update_request():\n",
    "    r_id = request.form.get('request_id')\n",
    "    column_name = request.form.get('column_name')\n",
    "    new_value = request.form.get('new_value')\n",
    "    current_time = dt.datetime.utcnow()+dt.timedelta(minutes=330)\n",
    "    response = request_updation(r_id,column_name,new_value,current_time)\n",
    "    return response\n"
   ]
  },
  {
   "cell_type": "code",
   "execution_count": null,
   "metadata": {},
   "outputs": [],
   "source": [
    "@app.route('/inactivate_volunteer',methods=['POST'])\n",
    "def volunteer_activation():\n",
    "    v_id = request.form.get('volunteer_id')\n",
    "    column_name = request.form.get('column_name')\n",
    "    new_value = request.form.get('new_value')\n",
    "    current_time = dt.datetime.utcnow()+dt.timedelta(minutes=330)\n",
    "    response = volunteer_updation(v_id,column_name,new_value,current_time)\n",
    "    return response\n"
   ]
  },
  {
   "cell_type": "code",
   "execution_count": null,
   "metadata": {},
   "outputs": [],
   "source": []
  },
  {
   "cell_type": "code",
   "execution_count": null,
   "metadata": {},
   "outputs": [],
   "source": [
    "# from folium import Map, Marker, GeoJson\n",
    "# from folium.plugins import MarkerCluster\n",
    "\n",
    "\n",
    "# @app.route('/folium_test',methods=['POST'])\n",
    "# def folium_test_fn():\n",
    "#     v_df, r_df = folium_data_request()\n",
    "#     m = Map(location= [12.97194, 77.59369], zoom_start= 12, tiles=\"cartodbpositron\", \n",
    "#             attr= '© <a href=\"http://www.openstreetmap.org/copyright\">OpenStreetMap</a> contributors © <a href=\"http://cartodb.com/attributions#basemaps\">CartoDB</a>')\n",
    "#     volunteer_cluster = MarkerCluster()\n",
    "#     for i in v_df.index:\n",
    "#         mk = Marker(location=[v_df.loc[i,'latitude'],v_df.loc[i,'longitude']])\n",
    "#         mk.add_to(volunteer_cluster)\n",
    "#     volunteer_cluster.add_to(m)\n",
    "#     requests_cluster = MarkerCluster()\n",
    "#     for i in r_df.index:\n",
    "#         mk = Marker(location=[r_df.loc[i,'latitude'],r_df.loc[i,'longitude']])\n",
    "#         mk.add_to(requests_cluster)\n",
    "#     requests_cluster.add_to(m)\n",
    "#     m.save('output/folium_test.html')\n",
    "#     return m._repr_html_()\n"
   ]
  },
  {
   "cell_type": "code",
   "execution_count": null,
   "metadata": {
    "scrolled": true
   },
   "outputs": [],
   "source": [
    "if(server_type=='local'):\n",
    "    if __name__ == '__main__':    \n",
    "        app.run(debug=True,use_reloader=False)\n",
    "\n",
    "if(server_type=='server'):\n",
    "    if __name__ =='__main__':\n",
    "        app.run()"
   ]
  },
  {
   "cell_type": "code",
   "execution_count": null,
   "metadata": {},
   "outputs": [],
   "source": []
  }
 ],
 "metadata": {
  "kernelspec": {
   "display_name": "Python 3",
   "language": "python",
   "name": "python3"
  },
  "language_info": {
   "codemirror_mode": {
    "name": "ipython",
    "version": 3
   },
   "file_extension": ".py",
   "mimetype": "text/x-python",
   "name": "python",
   "nbconvert_exporter": "python",
   "pygments_lexer": "ipython3",
   "version": "3.7.6"
  }
 },
 "nbformat": 4,
 "nbformat_minor": 4
}
