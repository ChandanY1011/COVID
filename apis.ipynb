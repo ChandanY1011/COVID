{
 "cells": [
  {
   "cell_type": "code",
   "execution_count": null,
   "metadata": {},
   "outputs": [],
   "source": [
    "import pandas as pd\n",
    "import datetime as dt\n",
    "# import json\n",
    "from flask import Flask,request,jsonify,json\n",
    "from flask_cors import CORS\n",
    "\n",
    "from connections import connections\n",
    "from database_entry import add_requests,add_volunteers_to_db,contact_us_form_add,verify_user,add_user\n",
    "\n",
    "from data_fetching import get_ticker_counts\n",
    "from settings import *\n"
   ]
  },
  {
   "cell_type": "code",
   "execution_count": null,
   "metadata": {},
   "outputs": [],
   "source": [
    "app = Flask(__name__)\n",
    "CORS(app)"
   ]
  },
  {
   "cell_type": "code",
   "execution_count": null,
   "metadata": {},
   "outputs": [],
   "source": [
    "# 1. request help\n",
    "# 2. volunteer register\n",
    "# 3. org register\n",
    "# 4. login\n",
    "# 5. user register (by you)\n",
    "#To Do\n",
    "# 6. get map data - open\n",
    "# 7. get map data - authorised, all details\n",
    "# 8. assign user"
   ]
  },
  {
   "cell_type": "code",
   "execution_count": null,
   "metadata": {},
   "outputs": [],
   "source": [
    "@app.route('/create_request',methods=['POST'])\n",
    "def create_request():\n",
    "    name = request.form.get('name')\n",
    "    mob_number = request.form.get('mob_number')\n",
    "    age = request.form.get('age')\n",
    "    address = request.form.get('address')\n",
    "    user_request = request.form.get('request')\n",
    "    latitude = request.form.get('latitude')\n",
    "    longitude = request.form.get('longitude')\n",
    "    current_time = dt.datetime.utcnow()+dt.timedelta(minutes=330)\n",
    "    req_dict = {'timestamp':[current_time],'name':[name],'mob_number':[mob_number],'email_id':[''],\n",
    "                'country':['India'],'address':[address],'geoaddress':[address],'latitude':[latitude], 'longitude':[longitude],\n",
    "                'source':['website'],'age':[age],'request':[user_request]}\n",
    "    df = pd.DataFrame(req_dict)\n",
    "    expected_columns=['timestamp', 'name', 'mob_number', 'email_id', 'country', 'address', 'geoaddress', 'latitude', 'longitude', 'source', 'request', 'age']\n",
    "    x,y = add_requests(df)\n",
    "    response = {'status':x,'string_response':y}\n",
    "    return json.dumps({'Response':response})"
   ]
  },
  {
   "cell_type": "code",
   "execution_count": null,
   "metadata": {},
   "outputs": [],
   "source": [
    "@app.route('/create_volunteer',methods=['POST'])\n",
    "def add_volunteer():\n",
    "    name = request.form.get('name')\n",
    "    mob_number = request.form.get('mob_number')\n",
    "    email_id = request.form.get('email_id')\n",
    "    address = request.form.get('address')\n",
    "    latitude = request.form.get('latitude')\n",
    "    longitude = request.form.get('longitude')\n",
    "    current_time = dt.datetime.utcnow()+dt.timedelta(minutes=330)\n",
    "    req_dict = {'timestamp':[current_time],'name':[name],'mob_number':[mob_number],'email_id':email_id,\n",
    "                'country':['India'],'address':[address],'geoaddress':[address],'latitude':[latitude], 'longitude':[longitude],\n",
    "                'source':['website']}\n",
    "    df = pd.DataFrame(req_dict)\n",
    "    expected_columns=['timestamp', 'name','mob_number', 'email_id', 'country', 'address', 'geoaddress', 'latitude', 'longitude','source']\n",
    "    x,y = add_volunteers_to_db(df)\n",
    "    response = {'status':x,'string_response':y}\n",
    "    return json.dumps({'Response':response})"
   ]
  },
  {
   "cell_type": "code",
   "execution_count": null,
   "metadata": {},
   "outputs": [],
   "source": [
    "@app.route('/login',methods=['POST'])\n",
    "def login_request():\n",
    "    name = request.form.get('username')\n",
    "    password = request.form.get('password')\n",
    "#     req_dict = {'username':name,'password':password}\n",
    "#     df = pd.DataFrame(req_dict)\n",
    "    response = verify_user(name,password)\n",
    "    return json.dumps({'Response':response})\n"
   ]
  },
  {
   "cell_type": "code",
   "execution_count": null,
   "metadata": {},
   "outputs": [],
   "source": [
    "@app.route('/new_user',methods=['POST'])\n",
    "def new_user():\n",
    "    name = request.form.get('name')\n",
    "    mob_number = request.form.get('mob_number')\n",
    "    email_id = request.form.get('email_id')\n",
    "    password = request.form.get('password')\n",
    "    organisation = request.form.get('organisation')\n",
    "    creator_access_type = request.form.get('creator_access_type')\n",
    "    user_access_type = request.form.get('user_access_type')\n",
    "    print(user_access_type)\n",
    "    current_time = dt.datetime.utcnow()+dt.timedelta(minutes=330)\n",
    "    if(user_access_type=='moderator'):\n",
    "        access_type=2\n",
    "    elif(user_access_type=='viewer'):\n",
    "        access_type=3    \n",
    "    elif(user_access_type=='superuser'):\n",
    "        response = {'status':False,'string_response':'You cannot create superuser'}\n",
    "        return jsonify(Response=response)\n",
    "    else:\n",
    "        response = {'status':False,'string_response':'Invalid access type'}\n",
    "        return jsonify(Response=response)\n",
    "    req_dict = {'creation_date':[current_time],'name':[name],'mob_number':[mob_number],'email_id':[email_id],'organisation':[organisation],'password':[password],'access_type':[user_access_type]}\n",
    "    df = pd.DataFrame(req_dict)\n",
    "    if(creator_access_type=='superuser'):\n",
    "        response = add_user(df)\n",
    "    else:\n",
    "        response = {'status':False,'string_response':'User does not have permission to create new users'}\n",
    "    return json.dumps({'Response':response})\n"
   ]
  },
  {
   "cell_type": "code",
   "execution_count": null,
   "metadata": {},
   "outputs": [],
   "source": [
    "@app.route('/reachout_form',methods=['POST'])\n",
    "def add_org_request():\n",
    "    name = request.form.get('name')\n",
    "    organisation = request.form.get('organisation')\n",
    "    email_id = request.form.get('email_id')\n",
    "    mob_number = request.form.get('mob_number')\n",
    "    current_time = dt.datetime.utcnow()+dt.timedelta(minutes=330)\n",
    "    comments = request.form.get('comments')\n",
    "    req_dict = {'timestamp':[current_time],'name':[name],'organisation':[organisation],'mob_number':[mob_number],'email_id':[email_id],\n",
    "                'source':['website'],'comments':[comments]}\n",
    "    df = pd.DataFrame(req_dict)\n",
    "    expected_columns=['timestamp', 'name','organisation','mob_number','email_id', 'source','comments']\n",
    "    x,y = contact_us_form_add(df)\n",
    "    response = {'status':x,'string_response':y}\n",
    "    return json.dumps({'Response':response})"
   ]
  },
  {
   "cell_type": "code",
   "execution_count": null,
   "metadata": {},
   "outputs": [],
   "source": [
    "@app.route('/top_ticker',methods=['POST'])\n",
    "def ticker_counts():\n",
    "    response = get_ticker_counts()\n",
    "    return json.dumps({'Response':response})"
   ]
  },
  {
   "cell_type": "code",
   "execution_count": null,
   "metadata": {
    "scrolled": true
   },
   "outputs": [],
   "source": [
    "if(server_type=='local'):\n",
    "    if __name__ == '__main__':    \n",
    "        app.run(debug=True,use_reloader=False)\n",
    "\n",
    "if(server_type=='server'):\n",
    "    if __name__ =='__main__':\n",
    "        app.run()"
   ]
  },
  {
   "cell_type": "code",
   "execution_count": null,
   "metadata": {},
   "outputs": [],
   "source": []
  }
 ],
 "metadata": {
  "kernelspec": {
   "display_name": "Python 3",
   "language": "python",
   "name": "python3"
  },
  "language_info": {
   "codemirror_mode": {
    "name": "ipython",
    "version": 3
   },
   "file_extension": ".py",
   "mimetype": "text/x-python",
   "name": "python",
   "nbconvert_exporter": "python",
   "pygments_lexer": "ipython3",
   "version": "3.7.6"
  }
 },
 "nbformat": 4,
 "nbformat_minor": 4
}
