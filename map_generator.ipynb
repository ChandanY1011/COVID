{
 "cells": [
  {
   "cell_type": "code",
   "execution_count": 3,
   "metadata": {},
   "outputs": [],
   "source": [
    "#Kepler\n",
    "#Folium\n",
    "#Mapbox\n"
   ]
  },
  {
   "cell_type": "code",
   "execution_count": 4,
   "metadata": {},
   "outputs": [],
   "source": [
    "import numpy as np\n",
    "import pandas as pd\n",
    "import geopandas as gpd\n",
    "\n",
    "#Map\n",
    "import keplergl\n",
    "\n",
    "from bs4 import BeautifulSoup\n",
    "#FORMAT: from map_config.filename import *\n",
    "from map_config.map_config_private import *\n",
    "from map_config.map_config_public import *\n"
   ]
  },
  {
   "cell_type": "code",
   "execution_count": null,
   "metadata": {},
   "outputs": [],
   "source": [
    "def html_file_changes(output_file_name):\n",
    "    with open(output_file_name,'r') as file:\n",
    "        filedata = file.read()\n",
    "        filedata = filedata.replace('keplergl-jupyter-html','covid-sos-page')\n",
    "        filedata = filedata.replace('UA-64694404-19','UA-143016880-1')\n",
    "    with open(output_file_name,'w') as file:\n",
    "        file.write(filedata)\n",
    "    with open(output_file_name,'r') as output_file_reader:\n",
    "        bs = output_file_reader.read()\n",
    "    soup = BeautifulSoup(bs, 'html.parser')\n",
    "    soup.title.string='COVID SOS Initiative - Connecting Volunteers with Requests'\n",
    "    #Enabling GA\n",
    "    with open(output_file_name, \"w\") as file:\n",
    "        file.write(str(soup))\n",
    "    return None\n"
   ]
  },
  {
   "cell_type": "code",
   "execution_count": null,
   "metadata": {},
   "outputs": [],
   "source": [
    "def public_map(v_df,r_df,output_file_name,map_pkg='kepler'):\n",
    "    if(map_pkg=='kepler'):\n",
    "        v_df['WhatsApp Contact Number']=9582148040\n",
    "        r_df['Mobile Number']=9582148040\n",
    "        map_1 = keplergl.KeplerGl(height=800,data={'volunteer_data':v_df.loc[v_df['Lat']!=0,['Timestamp', 'Full Name','geometry','Lat','Lon','radius','icon','TYPE']],\n",
    "                                                   'requests_data':r_df.loc[r_df['Lat']!=0,['Timestamp', 'Full Name', 'Mobile Number', 'Age'\n",
    "        ,'Would you like to give any special instructions to the volunteer aligned to you? Please share below.','Task Status','geometry','Lat','Lon','radius','icon','TYPE']]})\n",
    "        print('The public map contains ', v_df[v_df['Lat']!=0].shape[0],' volunteers and ', r_df[r_df['Lat']!=0].shape[0], ' pending requests')\n",
    "        #variable live_config is defined when \"file\" is executed\n",
    "        if(public_live_config):\n",
    "            map_1.config = public_live_config\n",
    "        map_1.save_to_html(file_name=output_file_name)\n",
    "        html_file_changes(output_file_name)\n",
    "    return map_1\n",
    "\n",
    "def private_map(v_df,r_df,output_file_name,map_pkg='kepler'):\n",
    "    if(map_pkg=='kepler'):\n",
    "        r_df = r_df[r_df['Task Status']=='Pending']\n",
    "        map_1 = keplergl.KeplerGl(height=800,data={'volunteer_data':v_df[v_df['Lat']!=0],'requests_data':r_df[r_df['Lat']!=0]})\n",
    "        print('The private Map contains ', v_df[v_df['Lat']!=0].shape[0],' volunteers and ', r_df[r_df['Lat']!=0].shape[0], ' pending requests')\n",
    "        #variable live_config is defined when \"file\" is executed\n",
    "        if(private_live_config):\n",
    "            map_1.config = private_live_config\n",
    "        map_1.save_to_html(file_name=output_file_name)\n",
    "        html_file_changes(output_file_name)\n",
    "    return map_1\n"
   ]
  },
  {
   "cell_type": "code",
   "execution_count": null,
   "metadata": {},
   "outputs": [],
   "source": [
    "def map_config_fn(map_config_file):\n",
    "    with open(map_config_file,'r') as config_file_reader:\n",
    "        config_file = config_file_reader.read()\n",
    "        exec(config_file, None, locals())\n",
    "    dx = live_config.copy()\n",
    "    return dx"
   ]
  }
 ],
 "metadata": {
  "kernelspec": {
   "display_name": "Python 3",
   "language": "python",
   "name": "python3"
  },
  "language_info": {
   "codemirror_mode": {
    "name": "ipython",
    "version": 3
   },
   "file_extension": ".py",
   "mimetype": "text/x-python",
   "name": "python",
   "nbconvert_exporter": "python",
   "pygments_lexer": "ipython3",
   "version": "3.7.6"
  }
 },
 "nbformat": 4,
 "nbformat_minor": 4
}
