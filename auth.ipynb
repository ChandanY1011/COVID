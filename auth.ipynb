{
 "cells": [
  {
   "cell_type": "code",
   "execution_count": null,
   "metadata": {},
   "outputs": [],
   "source": [
    "import sys\n",
    "import inspect\n",
    "import os\n",
    "root_path = os.path.dirname(os.path.abspath(inspect.getfile(inspect.currentframe())))\n",
    "sys.path.append(root_path)\n",
    "from functools import wraps\n",
    "from flask import current_app as app\n",
    "from flask import json, request\n",
    "import datetime as dt\n",
    "import jwt\n",
    "import pandas as pd\n",
    "import mailer_fn as mailer\n",
    "\n",
    "from connections import connections\n",
    "from data_fetching import verify_user_exists, verify_volunteer_exists\n"
   ]
  },
  {
   "cell_type": "code",
   "execution_count": null,
   "metadata": {},
   "outputs": [],
   "source": [
    "\n",
    "def login_required(f):\n",
    "    @wraps(f)\n",
    "    def decorated_function(*args, **kwargs):\n",
    "        auth_header = request.headers.get('Authorization')\n",
    "        auth_token = auth_header.split(\" \")[1] if auth_header else ''\n",
    "        if not auth_token:\n",
    "            return json.dumps({'Response':{},'status':False,'string_response': 'User login required'})\n",
    "        resp, success = decode_auth_token(auth_token)\n",
    "        if not success:\n",
    "            return json.dumps({'Response':{},'status':False,'string_response': resp})\n",
    "        try:\n",
    "            data = resp.split(' ', 1)\n",
    "            user_id = data[0]\n",
    "            access_type = data[1]\n",
    "            user_exists = verify_user_exists(user_id, access_type)\n",
    "            if not user_exists:\n",
    "                return json.dumps({'Response':{},'status':False,'string_response': 'no valid user found'})\n",
    "        except Exception:\n",
    "            return json.dumps({'Response':{},'status':False,'string_response': 'no valid user found'})\n",
    "        kwargs['user_id'] = user_id\n",
    "        return f(*args, **kwargs)\n",
    "    return decorated_function\n",
    "\n",
    "\n",
    "\n",
    "\n",
    "\n",
    "\n",
    "def volunteer_login_req(f):\n",
    "    @wraps(f)\n",
    "    def decorated_function(*args, **kwargs):\n",
    "        auth_header = request.headers.get('Authorization')\n",
    "        auth_token = auth_header.split(\" \")[1] if auth_header else ''\n",
    "        if not auth_token:\n",
    "            return json.dumps({'Response':{},'status':False,'string_response': 'Volunteer login required'})\n",
    "        resp, success = decode_auth_token(auth_token)\n",
    "        if not success:\n",
    "            return json.dumps({'Response':{},'status':False,'string_response': resp})\n",
    "        try:\n",
    "            data = resp.split(' ', 1)\n",
    "            v_id = data[0]\n",
    "            country = data[1]\n",
    "            volunteer_exists = verify_volunteer_exists(None, v_id, country)\n",
    "            if not volunteer_exists['status']:\n",
    "                return json.dumps({'Response':{},'status':False,'string_response': 'no volunteer found'})\n",
    "        except Exception:\n",
    "            return json.dumps({'Response':{},'status':False,'string_response': 'no volunteer found'})\n",
    "        kwargs['volunteer_id'] = v_id\n",
    "        return f(*args, **kwargs)\n",
    "    return decorated_function\n"
   ]
  },
  {
   "cell_type": "code",
   "execution_count": null,
   "metadata": {},
   "outputs": [],
   "source": [
    "def encode_auth_token(key):\n",
    "    try:\n",
    "        payload = {\n",
    "            'exp': dt.datetime.utcnow() + dt.timedelta(days=1),\n",
    "            'iat': dt.datetime.utcnow(),\n",
    "            'sub': str(key)\n",
    "        }\n",
    "        return jwt.encode(\n",
    "            payload,\n",
    "            app.config.get('SECRET_KEY'),\n",
    "            algorithm='HS256'\n",
    "        )\n",
    "    except Exception as e:\n",
    "        mailer.send_exception_mail()        \n",
    "        return None"
   ]
  },
  {
   "cell_type": "code",
   "execution_count": null,
   "metadata": {},
   "outputs": [],
   "source": [
    "\n",
    "def decode_auth_token(auth_token):\n",
    "    try:\n",
    "        server_con = connections('prod_db_read')\n",
    "        query = f\"\"\"select * from token_blacklist where token='{auth_token}'\"\"\"\n",
    "        data = pd.read_sql(query, server_con)\n",
    "        token_blacklisted = data.shape[0] > 0\n",
    "        if token_blacklisted:\n",
    "            return 'Invalid token. Please log in again.', False\n",
    "        payload = jwt.decode(auth_token, app.config.get('SECRET_KEY'))\n",
    "        return payload['sub'], True\n",
    "    except jwt.ExpiredSignatureError:\n",
    "        return 'Signature expired. Please log in again.', False\n",
    "    except jwt.InvalidTokenError:\n",
    "        return 'Invalid token. Please log in again.', False"
   ]
  },
  {
   "cell_type": "code",
   "execution_count": null,
   "metadata": {},
   "outputs": [],
   "source": []
  },
  {
   "cell_type": "code",
   "execution_count": null,
   "metadata": {},
   "outputs": [],
   "source": []
  }
 ],
 "metadata": {
  "kernelspec": {
   "display_name": "Python 3",
   "language": "python",
   "name": "python3"
  },
  "language_info": {
   "codemirror_mode": {
    "name": "ipython",
    "version": 3
   },
   "file_extension": ".py",
   "mimetype": "text/x-python",
   "name": "python",
   "nbconvert_exporter": "python",
   "pygments_lexer": "ipython3",
   "version": "3.7.6"
  }
 },
 "nbformat": 4,
 "nbformat_minor": 4
}
