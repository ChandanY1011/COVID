{
 "cells": [
  {
   "cell_type": "code",
   "execution_count": null,
   "metadata": {},
   "outputs": [],
   "source": [
    "import sys\n",
    "import inspect\n",
    "import os\n",
    "root_path = os.path.dirname(os.path.abspath(inspect.getfile(inspect.currentframe())))\n",
    "sys.path.append(root_path)\n",
    "from functools import wraps\n",
    "from flask import current_app as app\n",
    "from flask import json, request\n",
    "import datetime as dt\n",
    "import jwt\n",
    "import pandas as pd\n",
    "import mailer_fn as mailer\n",
    "\n",
    "from connections import connections"
   ]
  },
  {
   "cell_type": "code",
   "execution_count": null,
   "metadata": {},
   "outputs": [],
   "source": [
    "\n",
    "def login_required(f):\n",
    "    @wraps(f)\n",
    "    def decorated_function(*args, **kwargs):\n",
    "        auth_header = request.headers.get('Authorization')\n",
    "        auth_token = auth_header.split(\" \")[1] if auth_header else ''\n",
    "        if not auth_token:\n",
    "            return json.dumps({'Response':{},'status':False,'string_response': 'Please login to view data'})\n",
    "        resp, success = decode_auth_token(auth_token)\n",
    "        if not success:\n",
    "            return json.dumps({'Response':{},'status':False,'string_response': resp})\n",
    "        kwargs['user_id'] = resp\n",
    "        return f(*args, **kwargs)\n",
    "    return decorated_function\n"
   ]
  },
  {
   "cell_type": "code",
   "execution_count": null,
   "metadata": {},
   "outputs": [],
   "source": [
    "def encode_auth_token(user_id):\n",
    "    try:\n",
    "        payload = {\n",
    "            'exp': dt.datetime.utcnow() + dt.timedelta(days=1),\n",
    "            'iat': dt.datetime.utcnow(),\n",
    "            'sub': user_id\n",
    "        }\n",
    "        return jwt.encode(\n",
    "            payload,\n",
    "            app.config.get('SECRET_KEY'),\n",
    "            algorithm='HS256'\n",
    "        )\n",
    "    except Exception as e:\n",
    "        mailer.send_exception_mail()        \n",
    "        return None"
   ]
  },
  {
   "cell_type": "code",
   "execution_count": null,
   "metadata": {},
   "outputs": [],
   "source": [
    "\n",
    "def decode_auth_token(auth_token):\n",
    "    try:\n",
    "        server_con = connections('prod_db_read')\n",
    "        query = f\"\"\"select * from token_blacklist where token='{auth_token}'\"\"\"\n",
    "        data = pd.read_sql(query, server_con)\n",
    "        token_blacklisted = data.shape[0] > 0\n",
    "        if token_blacklisted:\n",
    "            return 'Invalid token. Please log in again.', False\n",
    "        payload = jwt.decode(auth_token, app.config.get('SECRET_KEY'))\n",
    "        return payload['sub'], True\n",
    "    except jwt.ExpiredSignatureError:\n",
    "        return 'Signature expired. Please log in again.', False\n",
    "    except jwt.InvalidTokenError:\n",
    "        return 'Invalid token. Please log in again.', False"
   ]
  },
  {
   "cell_type": "code",
   "execution_count": null,
   "metadata": {},
   "outputs": [],
   "source": []
  },
  {
   "cell_type": "code",
   "execution_count": null,
   "metadata": {},
   "outputs": [],
   "source": []
  }
 ],
 "metadata": {
  "kernelspec": {
   "display_name": "Python 3",
   "language": "python",
   "name": "python3"
  },
  "language_info": {
   "codemirror_mode": {
    "name": "ipython",
    "version": 3
   },
   "file_extension": ".py",
   "mimetype": "text/x-python",
   "name": "python",
   "nbconvert_exporter": "python",
   "pygments_lexer": "ipython3",
   "version": "3.7.6"
  }
 },
 "nbformat": 4,
 "nbformat_minor": 4
}
