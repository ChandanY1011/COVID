{
 "cells": [
  {
   "cell_type": "code",
   "execution_count": 1,
   "metadata": {},
   "outputs": [],
   "source": [
    "import pandas as pd\n",
    "from connections import connections,keys\n",
    "import requests"
   ]
  },
  {
   "cell_type": "code",
   "execution_count": 2,
   "metadata": {},
   "outputs": [],
   "source": []
  },
  {
   "cell_type": "code",
   "execution_count": null,
   "metadata": {},
   "outputs": [],
   "source": [
    "\n",
    "def remove_duplicates(df,user_type):\n",
    "    server_con = connections('db_read')\n",
    "    if(user_type=='volunteers')\n",
    "        query = \"\"\"Select mob_number from volunteers\"\"\"\n",
    "        volunteer_list = pd.read_sql(query,server_con)\n",
    "        df_new = df[!(df['mob_number'].isin(volunteer_list['mob_number'].unique()))]\n",
    "    elif(user_type=='requests')\n",
    "        query = \"\"\"Select timestamp, mob_number from requests\"\"\"\n",
    "        request_list = pd.read_sql(query,server_con)\n",
    "        df_new = df.merge(request_list[['timestamp','mob_number','name']], how='left',on=['timestamp','mob_number'],suffixes=('','_r'))\n",
    "        df_new = df_new[df_new['name_r'].isnull()]\n",
    "    return df_new\n",
    "    \n",
    "def add_volunteers(df):\n",
    "    #df with columns [timestamp, name, mob_number, email_id, country, address, geoaddress,latitude, longitude, source]\n",
    "    expected_columns=['timestamp', 'name','mob_number', 'email_id', 'country', 'address', 'geoaddress', 'latitude', 'longitude','source']\n",
    "    if(df.columns==expected_columns):\n",
    "        engine = connections('db_write')\n",
    "        df.to_sql(name = 'volunteers', con = engine, schema='thebang7_COVID_SOS', if_exists='append', index = False,index_label=None)\n",
    "        return_str = 'Data uploaded successfully'\n",
    "        return True,return_str\n",
    "    else:\n",
    "        return_str = 'Column names not matching'\n",
    "        return False,return_str\n",
    "\n",
    "def add_requests(df):\n",
    "    #df with columns [timestamp, name,mob_number, email_id, country, address, geoaddress, latitude, longitude, source, request,age]\n",
    "    expected_columns=['timestamp', 'name', 'mob_number', 'email_id', 'country', 'address', 'geoaddress', 'latitude', 'longitude', 'source', 'request', 'age']\n",
    "    if(df.columns==expected_columns):\n",
    "        engine = connections('db_write')\n",
    "        df.to_sql(name = 'requests', con = engine, schema='thebang7_COVID_SOS', if_exists='append', index = False,index_label=None)\n",
    "        return_str = 'Data uploaded successfully'\n",
    "        return True,return_str\n",
    "    else:\n",
    "        return_str = 'Column names not matching'\n",
    "        return False,return_str\n"
   ]
  },
  {
   "cell_type": "code",
   "execution_count": 6,
   "metadata": {},
   "outputs": [],
   "source": [
    "def geocoding(address_str,country_str,key):\n",
    "    url = 'https://maps.googleapis.com/maps/api/geocode/json?address='+str(address_str)+'&components=country:'+str(country_str)+'&key='+key\n",
    "    try:\n",
    "        r = requests.get(url=url)\n",
    "        data = r.json()\n",
    "        if data[\"status\"]==\"OK\":\n",
    "            return (data['results'][0]['geometry']['location']['lng'], \n",
    "                    data['results'][0]['geometry']['location']['lat'])\n",
    "        else:\n",
    "            print(data[\"status\"] + \" for \"+ address_str)\n",
    "            return None\n",
    "    except:\n",
    "        print(\"HTTP Error for \"+address_str)\n",
    "        return None\n",
    "\n"
   ]
  },
  {
   "cell_type": "code",
   "execution_count": null,
   "metadata": {},
   "outputs": [],
   "source": []
  }
 ],
 "metadata": {
  "kernelspec": {
   "display_name": "Python 3",
   "language": "python",
   "name": "python3"
  },
  "language_info": {
   "codemirror_mode": {
    "name": "ipython",
    "version": 3
   },
   "file_extension": ".py",
   "mimetype": "text/x-python",
   "name": "python",
   "nbconvert_exporter": "python",
   "pygments_lexer": "ipython3",
   "version": "3.7.6"
  }
 },
 "nbformat": 4,
 "nbformat_minor": 4
}
