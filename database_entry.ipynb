{
 "cells": [
  {
   "cell_type": "code",
   "execution_count": null,
   "metadata": {},
   "outputs": [],
   "source": [
    "import pandas as pd\n",
    "from connections import connections,keys\n",
    "import requests"
   ]
  },
  {
   "cell_type": "code",
   "execution_count": null,
   "metadata": {},
   "outputs": [],
   "source": []
  },
  {
   "cell_type": "code",
   "execution_count": null,
   "metadata": {},
   "outputs": [],
   "source": [
    "def remove_existing_volunteers(df):\n",
    "    server_con = connections('db_read')\n",
    "    query = \"\"\"Select mob_number from volunteers\"\"\"\n",
    "    volunteer_list = pd.read_sql(query,server_con)\n",
    "    df['mob_number']=df['mob_number'].apply(lambda x: int(x))\n",
    "    df_new = df[df['mob_number'].isin(volunteer_list['mob_number'].unique())==False]\n",
    "    return df_new\n",
    "    \n",
    "def last_entry_timestamp(source):\n",
    "    server_con = connections('db_read')\n",
    "    query = \"\"\"Select max(timestamp) as timestamp from requests where source='{source}'\"\"\".format(source=source)\n",
    "    max_timestamp = pd.read_sql(query,server_con,parse_dates=['timestamp'])    \n",
    "    max_timestamp['source']=source\n",
    "    return max_timestamp\n",
    "\n",
    "def add_volunteers_to_db(df_full):\n",
    "    df = remove_existing_volunteers(df_full)\n",
    "    df['timestamp']=pd.to_datetime(df['timestamp'])\n",
    "    if(df.shape[0]>0):\n",
    "        print('New volunteers to be added')\n",
    "    else:\n",
    "        return_str = 'No New Volunteers to be added'\n",
    "        return True, return_str\n",
    "    #df with columns [timestamp, name, mob_number, email_id, country, address, geoaddress,latitude, longitude, source]\n",
    "    expected_columns=['timestamp', 'name','mob_number', 'email_id', 'country', 'address', 'geoaddress', 'latitude', 'longitude','source']\n",
    "    if(len(df.columns.intersection(expected_columns))==len(expected_columns)):\n",
    "        engine = connections('db_write')\n",
    "        df.to_sql(name = 'volunteers', con = engine, schema='thebang7_COVID_SOS', if_exists='append', index = False,index_label=None)\n",
    "        return_str = 'Data uploaded successfully'\n",
    "        return True,return_str\n",
    "    else:\n",
    "        return_str = 'Column names not matching'\n",
    "        return False,return_str\n",
    "\n",
    "def add_requests(df):\n",
    "    #df with columns [timestamp, name,mob_number, email_id, country, address, geoaddress, latitude, longitude, source, request,age]\n",
    "    expected_columns=['timestamp', 'name', 'mob_number', 'email_id', 'country', 'address', 'geoaddress', 'latitude', 'longitude', 'source', 'request', 'age']\n",
    "    if(len(df.columns.intersection(expected_columns))==len(expected_columns)):\n",
    "        engine = connections('db_write')\n",
    "        df.to_sql(name = 'requests', con = engine, schema='thebang7_COVID_SOS', if_exists='append', index = False,index_label=None)\n",
    "        return_str = 'Data uploaded successfully'\n",
    "        return True,return_str\n",
    "    else:\n",
    "        return_str = 'Column names not matching'\n",
    "        return False,return_str\n"
   ]
  },
  {
   "cell_type": "code",
   "execution_count": null,
   "metadata": {},
   "outputs": [],
   "source": [
    "def geocoding(address_str,country_str,key):\n",
    "    url = 'https://maps.googleapis.com/maps/api/geocode/json?address='+str(address_str)+'&components=country:'+str(country_str)+'&key='+key\n",
    "    try:\n",
    "        r = requests.get(url=url)\n",
    "        data = r.json()\n",
    "        if data[\"status\"]==\"OK\":\n",
    "            return (data['results'][0]['geometry']['location']['lng'], \n",
    "                    data['results'][0]['geometry']['location']['lat'])\n",
    "        else:\n",
    "            print(data[\"status\"] + \" for \"+ address_str)\n",
    "            return None\n",
    "    except:\n",
    "        print(\"HTTP Error for \"+address_str)\n",
    "        return None\n",
    "\n"
   ]
  },
  {
   "cell_type": "code",
   "execution_count": null,
   "metadata": {},
   "outputs": [],
   "source": [
    "def add_user(df):\n",
    "    expected_columns=['creation_date', 'name', 'mob_number', 'email_id', 'password', 'access_type']\n",
    "    if(df.columns==expected_columns):\n",
    "        engine = connections('db_write')\n",
    "        df.to_sql(name = 'users', con = engine, schema='thebang7_COVID_SOS', if_exists='append', index = False,index_label=None)\n",
    "        return_str = 'Data uploaded successfully'\n",
    "        return True,return_str\n",
    "    else:\n",
    "        return_str = 'Column names not matching'\n",
    "        return False,return_str\n",
    "    \n",
    "def check_user(username,password):\n",
    "    server_con = connections('db_read')\n",
    "    query = \"\"\"Select mob_number,email_id,password,access_type from users\"\"\"\n",
    "    volunteer_list = pd.read_sql(query,server_con)\n",
    "    for i in volunteer_list.index:\n",
    "        if(((volunteer_list.loc[i,'mob_number'].str==username) or (volunteer_list.loc[i,'email_id']==username)) and (volunteer_list.loc[i,'password'].str==password)):\n",
    "            return_str = 'Login successful'\n",
    "            return True,return_str\n",
    "        elif(((volunteer_list.loc[i,'mob_number'].str==username) or (volunteer_list.loc[i,'email_id']==username)) and (volunteer_list.loc[i,'password'].str!=password)):\n",
    "            return_str = 'Incorrect Password!'\n",
    "        else:\n",
    "            return_str = 'Incorrect username!'\n",
    "        return False, return_str\n",
    "\n",
    "\n",
    "#todo\n",
    "#password encryption\n",
    "#User info updation"
   ]
  },
  {
   "cell_type": "code",
   "execution_count": null,
   "metadata": {},
   "outputs": [],
   "source": []
  }
 ],
 "metadata": {
  "kernelspec": {
   "display_name": "Python 3",
   "language": "python",
   "name": "python3"
  },
  "language_info": {
   "codemirror_mode": {
    "name": "ipython",
    "version": 3
   },
   "file_extension": ".py",
   "mimetype": "text/x-python",
   "name": "python",
   "nbconvert_exporter": "python",
   "pygments_lexer": "ipython3",
   "version": "3.7.6"
  }
 },
 "nbformat": 4,
 "nbformat_minor": 4
}
