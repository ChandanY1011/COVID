{
 "cells": [
  {
   "cell_type": "code",
   "execution_count": null,
   "metadata": {},
   "outputs": [],
   "source": [
    "\n",
    "import pandas as pd\n",
    "from connections import connections,keys\n",
    "import requests\n",
    "\n"
   ]
  },
  {
   "cell_type": "code",
   "execution_count": null,
   "metadata": {},
   "outputs": [],
   "source": [
    "def get_ticker_counts():\n",
    "    try:\n",
    "        server_con = connections('prod_db_read')\n",
    "        v_q = \"\"\"Select * from volunteers\"\"\"\n",
    "        v_df = pd.read_sql(v_q,server_con)\n",
    "        r_q = \"\"\"Select * from requests\"\"\"\n",
    "        r_df = pd.read_sql(r_q,server_con)\n",
    "\n",
    "        volunteer_count = v_df['mob_number'].nunique()\n",
    "        request_count = r_df.shape[0]\n",
    "        pending_request_count = r_df[r_df['status']=='pending'].shape[0]\n",
    "        return {'Response':{},'status':True,'string_response':'Metrics computed','volunteer_count':volunteer_count,'request_count':request_count,'pending_request_count':pending_request_count}\n",
    "    except:\n",
    "        return {'Response':{},'status':False,'string_response':'Connection to DB failed'}"
   ]
  },
  {
   "cell_type": "code",
   "execution_count": null,
   "metadata": {},
   "outputs": [],
   "source": [
    "def get_private_map_data():\n",
    "    server_con = connections('prod_db_read')\n",
    "    v_q = \"\"\"Select id as v_id, name,source,latitude,longitude,address,mob_number,email_id,status from volunteers\"\"\"\n",
    "    v_df = pd.read_sql(v_q,server_con)\n",
    "    v_df = v_df[(v_df['latitude']!=0.0)&(v_df['longitude']!=0.0)&(v_df['status']==1)]\n",
    "    v_df['type']='Volunteer'\n",
    "    r_q = \"\"\"Select id as r_id, name,age,source,latitude,longitude,request,status,address,mob_number from requests\"\"\"\n",
    "    r_df = pd.read_sql(r_q,server_con)\n",
    "    r_df = r_df[(r_df['latitude']!=0.0)&(r_df['longitude']!=0.0)]\n",
    "    r_df['type']='Request'\n",
    "    return {'Volunteers': v_df.to_dict('records'), 'Requests':r_df.to_dict('records')}\n",
    "    #return (v_df.to_json(orient='index'))\n",
    "    \n",
    "    "
   ]
  },
  {
   "cell_type": "code",
   "execution_count": null,
   "metadata": {},
   "outputs": [],
   "source": [
    "def get_public_map_data():\n",
    "    server_con = connections('prod_db_read')\n",
    "    v_q = \"\"\"Select name,latitude,longitude from volunteers\"\"\"\n",
    "    v_df = pd.read_sql(v_q,server_con)    \n",
    "    v_df = v_df[(v_df['latitude']!=0.0)&(v_df['longitude']!=0.0)]\n",
    "    v_df['type']='Volunteer'\n",
    "#     v_df['radius']=0.5\n",
    "#     geometry = v_df.apply(lambda x: Point(x['longitude'],x['latitude']).buffer(buffer_radius*x.radius),axis=1)\n",
    "#     crs = {'init': 'epsg:4326'}\n",
    "#     v_df = gpd.GeoDataFrame(v_df, crs=crs, geometry=geometry)\n",
    "    r_q = \"\"\"Select name,age,request,latitude,longitude from requests\"\"\"\n",
    "    r_df = pd.read_sql(r_q,server_con)\n",
    "    r_df = r_df[(r_df['latitude']!=0.0)&(r_df['longitude']!=0.0)]\n",
    "    r_df['type']='Request'\n",
    "    return {'Volunteers': v_df.to_dict('records'), 'Requests':r_df.to_dict('records')}\n",
    "\n"
   ]
  },
  {
   "cell_type": "code",
   "execution_count": null,
   "metadata": {},
   "outputs": [],
   "source": []
  },
  {
   "cell_type": "code",
   "execution_count": null,
   "metadata": {},
   "outputs": [],
   "source": [
    "def folium_data_request():\n",
    "    server_con = connections('prod_db_read')\n",
    "    v_q = \"\"\"Select id as v_id, name,source,latitude,longitude from volunteers\"\"\"\n",
    "    v_df = pd.read_sql(v_q,server_con)    \n",
    "    v_df = v_df[(v_df['latitude']!=0.0)&(v_df['longitude']!=0.0)]\n",
    "    v_df['type']='Volunteer'\n",
    "#     v_df['radius']=0.5\n",
    "#     geometry = v_df.apply(lambda x: Point(x['longitude'],x['latitude']).buffer(buffer_radius*x.radius),axis=1)\n",
    "#     crs = {'init': 'epsg:4326'}\n",
    "#     v_df = gpd.GeoDataFrame(v_df, crs=crs, geometry=geometry)\n",
    "    r_q = \"\"\"Select id as r_id, name,source,latitude,longitude,request,status from requests\"\"\"\n",
    "    r_df = pd.read_sql(r_q,server_con)\n",
    "    r_df = r_df[(r_df['latitude']!=0.0)&(r_df['longitude']!=0.0)]\n",
    "    r_df['type']='Request'\n",
    "    return v_df,r_df"
   ]
  }
 ],
 "metadata": {
  "kernelspec": {
   "display_name": "Python 3",
   "language": "python",
   "name": "python3"
  },
  "language_info": {
   "codemirror_mode": {
    "name": "ipython",
    "version": 3
   },
   "file_extension": ".py",
   "mimetype": "text/x-python",
   "name": "python",
   "nbconvert_exporter": "python",
   "pygments_lexer": "ipython3",
   "version": "3.7.6"
  }
 },
 "nbformat": 4,
 "nbformat_minor": 4
}
