{
 "cells": [
  {
   "cell_type": "code",
   "execution_count": 2,
   "metadata": {},
   "outputs": [],
   "source": [
    "\n",
    "import pandas as pd\n",
    "from connections import connections,keys\n",
    "import requests\n",
    "import mailer_fn as mailer"
   ]
  },
  {
   "cell_type": "code",
   "execution_count": 3,
   "metadata": {},
   "outputs": [],
   "source": [
    "def get_requests_list():\n",
    "    req_q = \"\"\"Select * from request_status\"\"\"\n",
    "    req_df = pd.read_sql(req_q, connections('prod_db_read'))\n",
    "    return req_df.to_dict('records')"
   ]
  },
  {
   "cell_type": "code",
   "execution_count": null,
   "metadata": {},
   "outputs": [],
   "source": [
    "def get_ticker_counts():\n",
    "    try:\n",
    "        server_con = connections('prod_db_read')\n",
    "        v_q = \"\"\"Select * from volunteers\"\"\"\n",
    "        v_df = pd.read_sql(v_q,server_con)\n",
    "        r_q = \"\"\"Select * from requests\"\"\"\n",
    "        r_df = pd.read_sql(r_q,server_con)\n",
    "\n",
    "        volunteer_count = v_df['mob_number'].nunique()\n",
    "        request_count = r_df.shape[0]\n",
    "        pending_request_count = r_df[r_df['status'].isin(['received','verified','pending'])].shape[0]\n",
    "        return {'Response':{'volunteer_count':volunteer_count,'request_count':request_count,'pending_request_count':pending_request_count},'status':True,'string_response':'Metrics computed'}\n",
    "    except:\n",
    "        mailer.send_exception_mail()\n",
    "        return {'Response':{},'status':False,'string_response':'Connection to DB failed'}"
   ]
  },
  {
   "cell_type": "code",
   "execution_count": null,
   "metadata": {},
   "outputs": [],
   "source": [
    "def get_private_map_data():\n",
    "    try:\n",
    "        server_con = connections('prod_db_read')\n",
    "        v_q = \"\"\"Select timestamp,id as v_id, name,source,latitude,longitude,geoaddress,address,mob_number,email_id,status,source from volunteers\"\"\"\n",
    "        v_df = pd.read_sql(v_q,server_con)\n",
    "        v_df['timestamp']=pd.to_datetime(v_df['timestamp'])#.dt.tz_localize(tz='Asia/kolkata')\n",
    "        v_df = v_df[(v_df['latitude']!=0.0)&(v_df['longitude']!=0.0)&(v_df['status']==1)]\n",
    "        r_q = \"\"\"Select timestamp,id as r_id, name,source,latitude,longitude,geoaddress,request,status,address,mob_number,source from requests\"\"\"\n",
    "        r_df = pd.read_sql(r_q,server_con)\n",
    "        r_df['timestamp']=pd.to_datetime(r_df['timestamp'])#.dt.tz_localize(tz='Asia/kolkata')\n",
    "        r_df = r_df[(r_df['latitude']!=0.0)&(r_df['longitude']!=0.0)]\n",
    "        return {'Volunteers': v_df.to_dict('records'), 'Requests':r_df.to_dict('records')}\n",
    "    except:\n",
    "        mailer.send_exception_mail()\n",
    "        return {}\n",
    "    #return (v_df.to_json(orient='index'))\n",
    "    \n",
    "    "
   ]
  },
  {
   "cell_type": "code",
   "execution_count": null,
   "metadata": {},
   "outputs": [],
   "source": [
    "def get_public_map_data():\n",
    "    try:\n",
    "        server_con = connections('prod_db_read')\n",
    "        v_q = \"\"\"Select name,latitude,longitude,source from volunteers\"\"\"\n",
    "        v_df = pd.read_sql(v_q,server_con)    \n",
    "        v_df = v_df[(v_df['latitude']!=0.0)&(v_df['longitude']!=0.0)]\n",
    "        v_df['name']='PRIVATE USER'\n",
    "    #     v_df['radius']=0.5\n",
    "    #     geometry = v_df.apply(lambda x: Point(x['longitude'],x['latitude']).buffer(buffer_radius*x.radius),axis=1)\n",
    "    #     crs = {'init': 'epsg:4326'}\n",
    "    #     v_df = gpd.GeoDataFrame(v_df, crs=crs, geometry=geometry)\n",
    "        r_q = \"\"\"Select name,request,latitude,longitude,source from requests\"\"\"\n",
    "        r_df = pd.read_sql(r_q,server_con)\n",
    "        r_df['name']='PRIVATE USER'\n",
    "        r_df = r_df[(r_df['latitude']!=0.0)&(r_df['longitude']!=0.0)]\n",
    "        return {'Volunteers': v_df.to_dict('records'), 'Requests':r_df.to_dict('records')}\n",
    "    except:\n",
    "        mailer.send_exception_mail()\n",
    "        return {}\n"
   ]
  },
  {
   "cell_type": "code",
   "execution_count": null,
   "metadata": {},
   "outputs": [],
   "source": [
    "def website_requests_display():\n",
    "    try:\n",
    "        server_con = connections('prod_db_read')\n",
    "        query = \"\"\"Select * from website_display\"\"\"\n",
    "        query_df = pd.read_sql(query,server_con)\n",
    "        pending_queries = query_df[query_df['type'].isin(['received','verified','pending'])]\n",
    "        completed_queries = query_df[query_df['type']=='completed']\n",
    "        return {'pending':pending_queries.to_dict('records'),'completed':completed_queries.to_dict('records')}\n",
    "    except:\n",
    "        mailer.send_exception_mail()\n",
    "        return {'pending':{},'completed':{}}\n"
   ]
  },
  {
   "cell_type": "code",
   "execution_count": null,
   "metadata": {},
   "outputs": [],
   "source": [
    "def website_success_stories():\n",
    "    try:\n",
    "        server_con = connections('prod_db_read')\n",
    "        query = \"\"\"Select * from success_stories\"\"\"\n",
    "        query_df = pd.read_sql(query,server_con)\n",
    "        return {'instagram':query_df.to_dict('records')}\n",
    "    except:\n",
    "        mailer.send_exception_mail()\n",
    "        return {'instagram':{}}\n"
   ]
  },
  {
   "cell_type": "code",
   "execution_count": null,
   "metadata": {},
   "outputs": [],
   "source": [
    "\n",
    "def get_user_id(username, password):\n",
    "    server_con = connections('prod_db_read')\n",
    "    query = f\"\"\"Select id from users where mob_number='{username}' or email_id='{username}' and password='{password}' order by id desc limit 1\"\"\"\n",
    "    try:\n",
    "        data = pd.read_sql(query, server_con)\n",
    "        user_id = int(data.iloc[0]['id'])\n",
    "        return user_id\n",
    "    except:\n",
    "        mailer.send_exception_mail()\n",
    "        return None\n",
    "    "
   ]
  },
  {
   "cell_type": "code",
   "execution_count": null,
   "metadata": {
    "scrolled": true
   },
   "outputs": [],
   "source": [
    "def accept_request_page(uuid,v_mob_number):\n",
    "    query = \"\"\"Select rm.r_id, rm.v_id,v.name as volunteer_name,rm.status, r.geoaddress as request_address,r.latitude as latitude, r.longitude as longitude, r.request as request_details\n",
    "            from nearby_volunteers rm left join requests r on r.id=rm.r_id\n",
    "            left join volunteers v on v.id=rm.v_id\n",
    "            where v.mob_number={mob_number} and r.uuid='{uuid}'\"\"\".format(uuid=uuid,mob_number=v_mob_number)\n",
    "    df = pd.read_sql(query,connections('prod_db_read'))\n",
    "    return df\n",
    "    \n",
    "    \n",
    "def request_data_by_uuid(uuid):\n",
    "    r_id_q = \"\"\"Select id as r_id,name,mob_number,geoaddress,latitude,longitude,request,status,timestamp from requests where uuid='{uuid_str}'\"\"\".format(uuid_str=uuid)\n",
    "    try:\n",
    "        r_id_df = pd.read_sql(r_id_q,connections('prod_db_read'))\n",
    "        return r_id_df\n",
    "    except:\n",
    "        mailer.send_exception_mail()\n",
    "        return pd.DataFrame()\n",
    "    \n",
    "\n",
    "def request_data_by_id(r_id):\n",
    "    r_id_q = \"\"\"Select id as r_id,name,mob_number,geoaddress,latitude,longitude,request,status,timestamp from requests where id='{r_id}'\"\"\".format(r_id=r_id)\n",
    "    try:\n",
    "        r_id_df = pd.read_sql(r_id_q,connections('prod_db_read'))\n",
    "        return r_id_df\n",
    "    except:\n",
    "        mailer.send_exception_mail()\n",
    "        return pd.DataFrame()\n",
    "    \n",
    "\n",
    "def volunteer_data_by_id(v_id):\n",
    "    v_id_q = \"\"\"Select id as v_id,name,mob_number from volunteers where id='{v_id}'\"\"\".format(v_id=v_id)\n",
    "    try:\n",
    "        v_id_df = pd.read_sql(v_id_q,connections('prod_db_read'))\n",
    "        return v_id_df\n",
    "    except:\n",
    "        mailer.send_exception_mail()\n",
    "        return pd.DataFrame()"
   ]
  },
  {
   "cell_type": "code",
   "execution_count": null,
   "metadata": {},
   "outputs": [],
   "source": [
    "# def folium_data_request():\n",
    "#     server_con = connections('prod_db_read')\n",
    "#     v_q = \"\"\"Select id as v_id, name,source,latitude,longitude from volunteers\"\"\"\n",
    "#     v_df = pd.read_sql(v_q,server_con)    \n",
    "#     v_df = v_df[(v_df['latitude']!=0.0)&(v_df['longitude']!=0.0)]\n",
    "#     v_df['type']='Volunteer'\n",
    "# #     v_df['radius']=0.5\n",
    "# #     geometry = v_df.apply(lambda x: Point(x['longitude'],x['latitude']).buffer(buffer_radius*x.radius),axis=1)\n",
    "# #     crs = {'init': 'epsg:4326'}\n",
    "# #     v_df = gpd.GeoDataFrame(v_df, crs=crs, geometry=geometry)\n",
    "#     r_q = \"\"\"Select id as r_id, name,source,latitude,longitude,request,status from requests\"\"\"\n",
    "#     r_df = pd.read_sql(r_q,server_con)\n",
    "#     r_df = r_df[(r_df['latitude']!=0.0)&(r_df['longitude']!=0.0)]\n",
    "#     r_df['type']='Request'\n",
    "#     return v_df,r_df"
   ]
  }
 ],
 "metadata": {
  "kernelspec": {
   "display_name": "Python 3",
   "language": "python",
   "name": "python3"
  },
  "language_info": {
   "codemirror_mode": {
    "name": "ipython",
    "version": 3
   },
   "file_extension": ".py",
   "mimetype": "text/x-python",
   "name": "python",
   "nbconvert_exporter": "python",
   "pygments_lexer": "ipython3",
   "version": "3.7.6"
  }
 },
 "nbformat": 4,
 "nbformat_minor": 4
}
