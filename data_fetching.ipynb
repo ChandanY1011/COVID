{
 "cells": [
  {
   "cell_type": "code",
   "execution_count": 1,
   "metadata": {},
   "outputs": [],
   "source": [
    "\n",
    "import pandas as pd\n",
    "from connections import connections,keys\n",
    "import requests\n",
    "\n"
   ]
  },
  {
   "cell_type": "code",
   "execution_count": null,
   "metadata": {},
   "outputs": [],
   "source": [
    "def get_ticker_counts():\n",
    "    server_con = connections('db_read')\n",
    "    v_q = \"\"\"Select * from volunteers\"\"\"\n",
    "    v_df = pd.read_sql(v_q,server_con)\n",
    "    r_q = \"\"\"Select * from requests\"\"\"\n",
    "    r_df = pd.read_sql(r_q,server_con)\n",
    "    \n",
    "    volunteer_count = v_df['mob_number'].nunique()\n",
    "    request_count = r_df.shape[0]\n",
    "    pending_request_count = r_df[r_df['status']=='pending'].shape[0]\n",
    "    return {'volunteer_count':volunteer_count,'request_count':request_count,'pending_request_count':pending_request_count}"
   ]
  },
  {
   "cell_type": "code",
   "execution_count": null,
   "metadata": {},
   "outputs": [],
   "source": [
    "\n"
   ]
  }
 ],
 "metadata": {
  "kernelspec": {
   "display_name": "Python 3",
   "language": "python",
   "name": "python3"
  },
  "language_info": {
   "codemirror_mode": {
    "name": "ipython",
    "version": 3
   },
   "file_extension": ".py",
   "mimetype": "text/x-python",
   "name": "python",
   "nbconvert_exporter": "python",
   "pygments_lexer": "ipython3",
   "version": "3.7.6"
  }
 },
 "nbformat": 4,
 "nbformat_minor": 4
}
