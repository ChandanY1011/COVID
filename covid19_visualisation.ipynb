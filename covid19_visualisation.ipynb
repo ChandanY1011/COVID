{
 "cells": [
  {
   "cell_type": "code",
   "execution_count": 1,
   "metadata": {},
   "outputs": [],
   "source": [
    "#Completed\n",
    "# Google API integration - extract data from spreadsheet\n",
    "# Map configuration & icons\n",
    "# Push to website (hosted on BlueHost) automatically\n",
    "# Secure storage of file without exposure to blog\n",
    "# Run the script Online in a cron format\n",
    "\n",
    "#TODO:\n",
    "# Integrating code with matching algorithm & writing matched entry into spreadsheet"
   ]
  },
  {
   "cell_type": "code",
   "execution_count": 2,
   "metadata": {},
   "outputs": [],
   "source": [
    "#Basic\n",
    "from __future__ import print_function\n",
    "import pandas as pd\n",
    "import geopandas as gpd\n",
    "import numpy as np\n",
    "from shapely.geometry import Point\n",
    "import datetime as dt\n",
    "\n",
    "#Google Docs integration\n",
    "import pickle\n",
    "import os.path\n",
    "from googleapiclient.discovery import build\n",
    "from google_auth_oauthlib.flow import InstalledAppFlow\n",
    "from google.auth.transport.requests import Request\n",
    "\n",
    "#File Transfer\n",
    "import ftplib\n",
    "import os\n",
    "\n",
    "from connections import connections\n",
    "from map_generator import public_map,private_map\n",
    "from settings import server_type\n",
    "\n",
    "from database_entry import add_volunteers_to_db\n",
    "from connections import connections"
   ]
  },
  {
   "cell_type": "code",
   "execution_count": 3,
   "metadata": {},
   "outputs": [],
   "source": [
    "# The ID and range of a sample spreadsheet.\n",
    "volunteer_sheet_data = [{'source':'GreenDream','sheet_id':'1e9H5yO1COGLNfA3lyZxRSgc2llDKRSFZX92Ov8VOzOs','range':'Form Responses 1!A1:K1000','columns': {'Timestamp':'timestamp', 'Full Name':'name', 'WhatsApp Contact Number':'mob_number', 'Email Address':'email_id',\n",
    "       'Your Location (Prefer mentioning nearest Google Maps Landmark - that you specify on mobile apps like Ola, Uber and Swiggy)':'address',\n",
    "       'Do you have a grocery and medical store within walking distance of 500 meters?':'grocery_store',\n",
    "       'GeoStamp':'geostamp', 'GeoAddress':'geoaddress', 'GeoCodeLat':'latitude', 'GeoCodeLon':'longitude'}}]\n",
    "senior_citizen_sheet_data = [{'source':'GreenDream','sheet_id':'1KrZCG_fYvImIy_-549VB0rzbbfKHkkbmJG0l6DH01zM','range':'Form Responses 1!A1:K1000','columns':{'Timestamp':'timestamp', 'Full Name':'name', 'Mobile Number':'mob_number', 'Age':'age',\n",
    "       'Your Location (be as precise as possible)':'address',\n",
    "       'Would you like to give any special instructions to the volunteer aligned to you? Please share below.':'request',\n",
    "       'Task Status':'status', 'GeoStamp':'geostamp', 'GeoAddress':'geoaddress','GeoCodeLat':'latitude', 'GeoCodeLon':'longitude'}}]\n",
    "\n",
    "public_file_name= 'output/COVID_SOS_v0.html'\n",
    "private_file_name= 'output/private_COVID_SOS_v0.html'\n"
   ]
  },
  {
   "cell_type": "code",
   "execution_count": 4,
   "metadata": {},
   "outputs": [],
   "source": [
    "def google_api_activation():\n",
    "    creds = None\n",
    "    # The file token.pickle stores the user's access and refresh tokens, and is\n",
    "    # created automatically when the authorization flow completes for the first\n",
    "    # time.\n",
    "    if os.path.exists('support_files/token.pickle'):\n",
    "        with open('support_files/token.pickle', 'rb') as token1:\n",
    "            creds = pickle.load(token1)\n",
    "    # If there are no (valid) credentials available, let the user log in.\n",
    "    if not creds or not creds.valid:\n",
    "        if creds and creds.expired and creds.refresh_token:\n",
    "            creds.refresh(Request())\n",
    "        else:\n",
    "            flow = InstalledAppFlow.from_client_secrets_file('support_files/credentials.json', SCOPES)\n",
    "            creds = flow.run_local_server(port=0)\n",
    "        # Save the credentials for the next run\n",
    "        with open('support_files/token.pickle', 'wb') as token:\n",
    "            pickle.dump(creds, token)\n",
    "    service = build('sheets', 'v4', credentials=creds)\n",
    "    return service\n",
    "\n",
    "def extract_all_sheets(service,sheets_dict):\n",
    "    sheets_df=pd.DataFrame()\n",
    "    for i in sheets_dict:\n",
    "        source = i['source']\n",
    "        sheet_id=i['sheet_id']\n",
    "        range_name=i['range']\n",
    "        column_rename=i['columns']\n",
    "        sheets_df_x = sheet_header(extract_sheet(service,sheet_id,range_name),source)\n",
    "        sheets_df_x = sheets_df_x.rename(columns=column_rename)\n",
    "        sheets_df = sheets_df.append(sheets_df_x)\n",
    "    return sheets_df\n",
    "\n",
    "def extract_sheet(service,sheet_id,range_name):\n",
    "    # Call the Sheets API\n",
    "    sheet = service.spreadsheets()\n",
    "    result = sheet.values().get(spreadsheetId=sheet_id,range=range_name).execute()\n",
    "    return result\n",
    "\n",
    "def sheet_header(df,source):\n",
    "    input_data = pd.DataFrame(df['values'])\n",
    "    new_header = input_data.iloc[0] #grab the first row for the header\n",
    "    input_data = input_data[1:] #take the data less the header row\n",
    "    input_data.columns = new_header #\n",
    "    input_data['source']=source\n",
    "    input_data = input_data.reset_index(drop=True)\n",
    "    return input_data\n",
    "\n",
    "\n",
    "def sheet_clean_up(df,default_r,buffer_radius,user_type='volunteer'):\n",
    "    # Sample Data\n",
    "    df = gpd.GeoDataFrame(df)\n",
    "    print('Received ', df.shape[0], ' responses')\n",
    "    d = mob_number_clean_up(df[['mob_number']])\n",
    "    df['mob_number']=d['mob_number']\n",
    "    df = df[d['mob_number_correct']]\n",
    "    print('Received ', d[d['mob_number_correct']==False].shape[0], ' responses with incorrect mobile numbers')\n",
    "    df['latitude']=df['latitude'].astype(float).fillna(0)\n",
    "    df['longitude']=df['longitude'].astype(float).fillna(0)\n",
    "    print('Received ', df[(df['latitude']==0)|(df['longitude']==0)].shape[0], ' responses with no location')\n",
    "    df['radius']=default_r\n",
    "    geometry = df.apply(lambda x: Point(x['longitude'],x['latitude']).buffer(buffer_radius*x.radius),axis=1)\n",
    "    crs = {'init': 'epsg:4326'}\n",
    "    f_df = gpd.GeoDataFrame(df, crs=crs, geometry=geometry)\n",
    "    if(user_type=='volunteer'):\n",
    "#         f_df['timestamp'] = pd.to_datetime(f_df['timestamp'])\n",
    "        f_df['icon']='location'\n",
    "        f_df['country']='India'\n",
    "    if(user_type=='requests'):\n",
    "        f_df['icon']='home'\n",
    "        f_df['country']='India'\n",
    "        f_df['email_id']=''\n",
    "    return f_df\n",
    "\n",
    "\n",
    "def mob_number_clean_up(df):\n",
    "    #Has space\n",
    "    df['mob_number']=df['mob_number'].str.replace(\" \",'')\n",
    "    df['mob_number']=df['mob_number'].str.replace(\",\",'')\n",
    "    df['mob_number']=df['mob_number'].str.replace(\"\\+91\",'')\n",
    "    df['mob_number']=df['mob_number'].apply(lambda x: str(int(x)))\n",
    "    #Has zero\n",
    "    df['mob_number_correct']=df['mob_number'].apply(lambda x: len(str(int(x)))==10)    \n",
    "    return df"
   ]
  },
  {
   "cell_type": "code",
   "execution_count": null,
   "metadata": {
    "scrolled": true
   },
   "outputs": [],
   "source": []
  },
  {
   "cell_type": "code",
   "execution_count": 5,
   "metadata": {},
   "outputs": [],
   "source": [
    "def push_file_to_server(File2Send,Url2Store):\n",
    "    ftp = connections('ftp')\n",
    "    Output_Directory = \"/public_html/covid19/\"\n",
    "    ftp.cwd(Output_Directory)\n",
    "    with open(File2Send, \"rb\") as server_f:\n",
    "        ftp.storbinary('STOR ' + os.path.basename(Url2Store), server_f)\n",
    "    print('File saved to server at URL: www.thebangaloreguy.com/covid19/'+(Url2Store).split('/')[-1])\n",
    "    return None"
   ]
  },
  {
   "cell_type": "code",
   "execution_count": 6,
   "metadata": {},
   "outputs": [],
   "source": [
    "def main():\n",
    "    #Fetching Data from sheets\n",
    "    print('Running script at',dt.datetime.utcnow()+dt.timedelta(minutes=330))\n",
    "    service = google_api_activation()\n",
    "    print('Google Authentication completed')\n",
    "    volunteer_df = extract_all_sheets(service,volunteer_sheet_data)\n",
    "    volunteer_df['TYPE']='VOLUNTEER'\n",
    "    requests_df = extract_all_sheets(service,senior_citizen_sheet_data)\n",
    "    requests_df['TYPE']='REQUEST'\n",
    "    \n",
    "    v_df = sheet_clean_up(volunteer_df,default_r,buffer_radius,'volunteer')\n",
    "#     v_db_status, response = add_volunteers_to_db(v_df)\n",
    "#     print('DB Update Status: ', v_db_status)\n",
    "#     print('Message:', response)\n",
    "    r_df = sheet_clean_up(requests_df,default_r,buffer_radius,'requests')\n",
    "    #add_requests(r_df.rename(columns={'email_d':'email_id'})[['timestamp', 'name', 'mob_number', 'email_id', 'country', 'address', 'geoaddress', 'latitude', 'longitude', 'source', 'request', 'age']])\n",
    "    private_map_v1 = private_map(v_df,r_df,private_file_name,map_pkg='kepler')\n",
    "    push_file_to_server(private_file_name,private_file_name)\n",
    "    push_file_to_server(private_file_name,'output/share_and_survive_v0_dark.html')\n",
    "    public_map_v1 = public_map(v_df,r_df,public_file_name,map_pkg='kepler')\n",
    "    push_file_to_server(public_file_name,public_file_name)\n",
    "    #Processing Data\n",
    "    return v_df, r_df, private_map_v1,public_map_v1"
   ]
  },
  {
   "cell_type": "code",
   "execution_count": 7,
   "metadata": {
    "scrolled": true
   },
   "outputs": [
    {
     "name": "stdout",
     "output_type": "stream",
     "text": [
      "Running script at 2020-04-02 01:15:46.375214\n",
      "Google Authentication completed\n",
      "Received  139  responses\n",
      "Received  2  responses with incorrect mobile numbers\n",
      "Received  0  responses with no location\n",
      "Received  43  responses\n",
      "Received  0  responses with incorrect mobile numbers\n",
      "Received  0  responses with no location\n",
      "User Guide: https://github.com/keplergl/kepler.gl/blob/master/docs/keplergl-jupyter/user-guide.md\n",
      "The private Map contains  137  volunteers and  19  pending requests\n",
      "Map saved to output/private_COVID_SOS_v0.html!\n"
     ]
    },
    {
     "name": "stderr",
     "output_type": "stream",
     "text": [
      "C:\\Users\\sid\\anaconda3\\envs\\project_covid19\\lib\\site-packages\\ipykernel_launcher.py:78: SettingWithCopyWarning: \n",
      "A value is trying to be set on a copy of a slice from a DataFrame.\n",
      "Try using .loc[row_indexer,col_indexer] = value instead\n",
      "\n",
      "See the caveats in the documentation: https://pandas.pydata.org/pandas-docs/stable/user_guide/indexing.html#returning-a-view-versus-a-copy\n",
      "C:\\Users\\sid\\anaconda3\\envs\\project_covid19\\lib\\site-packages\\ipykernel_launcher.py:79: SettingWithCopyWarning: \n",
      "A value is trying to be set on a copy of a slice from a DataFrame.\n",
      "Try using .loc[row_indexer,col_indexer] = value instead\n",
      "\n",
      "See the caveats in the documentation: https://pandas.pydata.org/pandas-docs/stable/user_guide/indexing.html#returning-a-view-versus-a-copy\n",
      "C:\\Users\\sid\\anaconda3\\envs\\project_covid19\\lib\\site-packages\\ipykernel_launcher.py:80: SettingWithCopyWarning: \n",
      "A value is trying to be set on a copy of a slice from a DataFrame.\n",
      "Try using .loc[row_indexer,col_indexer] = value instead\n",
      "\n",
      "See the caveats in the documentation: https://pandas.pydata.org/pandas-docs/stable/user_guide/indexing.html#returning-a-view-versus-a-copy\n",
      "C:\\Users\\sid\\anaconda3\\envs\\project_covid19\\lib\\site-packages\\ipykernel_launcher.py:81: SettingWithCopyWarning: \n",
      "A value is trying to be set on a copy of a slice from a DataFrame.\n",
      "Try using .loc[row_indexer,col_indexer] = value instead\n",
      "\n",
      "See the caveats in the documentation: https://pandas.pydata.org/pandas-docs/stable/user_guide/indexing.html#returning-a-view-versus-a-copy\n",
      "C:\\Users\\sid\\anaconda3\\envs\\project_covid19\\lib\\site-packages\\ipykernel_launcher.py:83: SettingWithCopyWarning: \n",
      "A value is trying to be set on a copy of a slice from a DataFrame.\n",
      "Try using .loc[row_indexer,col_indexer] = value instead\n",
      "\n",
      "See the caveats in the documentation: https://pandas.pydata.org/pandas-docs/stable/user_guide/indexing.html#returning-a-view-versus-a-copy\n"
     ]
    },
    {
     "name": "stdout",
     "output_type": "stream",
     "text": [
      "User Guide: https://github.com/keplergl/kepler.gl/blob/master/docs/keplergl-jupyter/user-guide.md\n",
      "The public map contains  137  volunteers and  43  pending requests\n",
      "Map saved to output/COVID_SOS_v0.html!\n",
      "File saved to server at URL: www.thebangaloreguy.com/covid19/COVID_SOS_v0.html\n"
     ]
    }
   ],
   "source": [
    "v_df, r_df, p1,p2=main()"
   ]
  },
  {
   "cell_type": "code",
   "execution_count": 8,
   "metadata": {},
   "outputs": [],
   "source": [
    "#v_df[['Lat','Lon','Full Name','TYPE']].rename(columns={'Full Name':'name','Lat':'lat','Lon':'lon','TYPE':'type'}).to_json(orient='table',index=False)\n",
    "\n",
    "#r_df[['Lat','Lon','Full Name','TYPE']].rename(columns={'Full Name':'name','Lat':'lat','Lon':'lon','TYPE':'type'}).to_json(orient='table',index=False)\n"
   ]
  },
  {
   "cell_type": "code",
   "execution_count": 9,
   "metadata": {},
   "outputs": [],
   "source": [
    "# with open('map_config/map_config_public.py','w') as f:\n",
    "#     f.write('public_live_config = {}'.format(map_1.config))\n",
    "# with open('map_config/map_config_new.py','r') as f:\n",
    "#     print(f.read())"
   ]
  },
  {
   "cell_type": "code",
   "execution_count": 10,
   "metadata": {},
   "outputs": [],
   "source": [
    "#v_query = (\"\"\"Select * from volunteers\"\"\")\n",
    "#v_data = pd.read_sql(v_query,server_con)\n",
    "\n",
    "#v_df.to_sql(name = 'volunteers', con = engine, schema='thebang7_COVID_SOS', if_exists='append', index = False,index_label=None)\n"
   ]
  },
  {
   "cell_type": "code",
   "execution_count": 11,
   "metadata": {},
   "outputs": [],
   "source": [
    "\n",
    "#Delete command\n",
    "#ftp.delete(os.path.basename(File2Send))\n"
   ]
  },
  {
   "cell_type": "code",
   "execution_count": 12,
   "metadata": {
    "scrolled": true
   },
   "outputs": [],
   "source": [
    "# from folium import Map, Marker, GeoJson\n",
    "# from folium.plugins import MarkerCluster\n",
    "\n",
    "\n",
    "# v_df\n",
    "\n",
    "# #quick visualization on map of raw data\n",
    "\n",
    "# m = Map(location= [12.97194, 77.59369], zoom_start= 12, tiles=\"cartodbpositron\", \n",
    "#         attr= '© <a href=\"http://www.openstreetmap.org/copyright\">OpenStreetMap</a> contributors © <a href=\"http://cartodb.com/attributions#basemaps\">CartoDB</a>' \n",
    "# )\n",
    "# mc = MarkerCluster()\n",
    "\n",
    "# for i in v_df.index:\n",
    "#     mk = Marker(location=[v_df.loc[i,'Lat'],v_df.loc[i,'Lon']])\n",
    "#     mk.add_to(mc)\n",
    "# mc.add_to(m)\n",
    "\n",
    "# m.save('folium_view.html')\n",
    "# m"
   ]
  }
 ],
 "metadata": {
  "kernelspec": {
   "display_name": "Python 3",
   "language": "python",
   "name": "python3"
  },
  "language_info": {
   "codemirror_mode": {
    "name": "ipython",
    "version": 3
   },
   "file_extension": ".py",
   "mimetype": "text/x-python",
   "name": "python",
   "nbconvert_exporter": "python",
   "pygments_lexer": "ipython3",
   "version": "3.7.6"
  }
 },
 "nbformat": 4,
 "nbformat_minor": 4
}
