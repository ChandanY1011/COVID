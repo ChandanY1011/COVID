{
 "cells": [
  {
   "cell_type": "code",
   "execution_count": 1,
   "metadata": {},
   "outputs": [],
   "source": [
    "#Completed\n",
    "# Google API integration - extract data from spreadsheet\n",
    "# Map configuration & icons\n",
    "\n",
    "#TODO:\n",
    "# Push to website (hosted on BlueHost) automatically\n",
    "# Run the script Online in a cron format\n",
    "# Secure storage of file without exposure to blog\n",
    "# Integrating code with matching algorithm & writing matched entry into spreadsheet"
   ]
  },
  {
   "cell_type": "code",
   "execution_count": 2,
   "metadata": {},
   "outputs": [],
   "source": [
    "from __future__ import print_function\n",
    "import pandas as pd\n",
    "import geopandas as gpd\n",
    "import numpy as np\n",
    "from shapely.geometry import Point\n",
    "\n",
    "import pickle\n",
    "import os.path\n",
    "from googleapiclient.discovery import build\n",
    "from google_auth_oauthlib.flow import InstalledAppFlow\n",
    "from google.auth.transport.requests import Request\n",
    "\n",
    "import keplergl"
   ]
  },
  {
   "cell_type": "code",
   "execution_count": 3,
   "metadata": {},
   "outputs": [],
   "source": [
    "\n",
    "default_r=0.5\n",
    "\n",
    "#Approximation\n",
    "lat_deg_to_km = 95.0\n",
    "lon_deg_to_km = 110.0\n",
    "buffer_radius = 1/np.sqrt(95*95+110*110)\n",
    "\n",
    "\n",
    "# If modifying these scopes, delete the file token.pickle.\n",
    "SCOPES = ['https://www.googleapis.com/auth/spreadsheets']\n",
    "\n",
    "# The ID and range of a sample spreadsheet.\n",
    "Volunteer_Sheet_ID = '1e9H5yO1COGLNfA3lyZxRSgc2llDKRSFZX92Ov8VOzOs'\n",
    "Senior_citizen_sheet_ID = '1KrZCG_fYvImIy_-549VB0rzbbfKHkkbmJG0l6DH01zM'\n",
    "Range_name = 'Form Responses 1!A1:K1000'\n",
    "\n",
    "# map_config='map_config/live_config_dark.py'\n",
    "map_config='map_config/live_config_light.py'\n",
    "with open(map_config,'r') as f:\n",
    "    file = f.read()\n",
    "    exec(str(file))\n"
   ]
  },
  {
   "cell_type": "code",
   "execution_count": 4,
   "metadata": {},
   "outputs": [],
   "source": [
    "def google_api_activation():\n",
    "    creds = None\n",
    "    # The file token.pickle stores the user's access and refresh tokens, and is\n",
    "    # created automatically when the authorization flow completes for the first\n",
    "    # time.\n",
    "    if os.path.exists('support_files/token.pickle'):\n",
    "        with open('support_files/token.pickle', 'rb') as token:\n",
    "            creds = pickle.load(token)\n",
    "    # If there are no (valid) credentials available, let the user log in.\n",
    "    if not creds or not creds.valid:\n",
    "        if creds and creds.expired and creds.refresh_token:\n",
    "            creds.refresh(Request())\n",
    "        else:\n",
    "            flow = InstalledAppFlow.from_client_secrets_file('support_files/credentials.json', SCOPES)\n",
    "            creds = flow.run_local_server(port=0)\n",
    "        # Save the credentials for the next run\n",
    "        with open('support_files/token.pickle', 'wb') as token:\n",
    "            pickle.dump(creds, token)\n",
    "    service = build('sheets', 'v4', credentials=creds)\n",
    "    return service\n",
    "\n",
    "\n",
    "def extract_sheet(service,sheet_id,range_name):\n",
    "    # Call the Sheets API\n",
    "    sheet = service.spreadsheets()\n",
    "    result = sheet.values().get(spreadsheetId=sheet_id,range=range_name).execute()\n",
    "    return result\n",
    "\n",
    "def sheet_header(df):\n",
    "    input_data = pd.DataFrame(df['values'])\n",
    "    new_header = input_data.iloc[0] #grab the first row for the header\n",
    "    input_data = input_data[1:] #take the data less the header row\n",
    "    input_data.columns = new_header #\n",
    "    return input_data\n",
    "\n",
    "\n",
    "def sheet_clean_up(df,default_r,buffer_radius):\n",
    "    \n",
    "    # Sample Data\n",
    "    df = gpd.GeoDataFrame(df)\n",
    "    df['Lat']=df['GeoCodeLat'].astype(float).fillna(0)\n",
    "    df['Lon']=df['GeoCodeLon'].astype(float).fillna(0)\n",
    "    df['radius']=default_r\n",
    "    geometry = df.apply(lambda x: Point(x['Lon'],x['Lat']).buffer(buffer_radius*x.radius),axis=1)\n",
    "    crs = {'init': 'epsg:4326'}\n",
    "    f_df = gpd.GeoDataFrame(df, crs=crs, geometry=geometry).drop(columns=['GeoCodeLat','GeoCodeLon'])\n",
    "    return f_df"
   ]
  },
  {
   "cell_type": "code",
   "execution_count": 5,
   "metadata": {},
   "outputs": [],
   "source": [
    "def main():\n",
    "    #Fetching Data from sheets\n",
    "    service = google_api_activation()\n",
    "    volunteer_df = sheet_header(extract_sheet(service,Volunteer_Sheet_ID,Range_name))\n",
    "    requests_df = sheet_header(extract_sheet(service,Senior_citizen_sheet_ID,Range_name))\n",
    "    v_df = sheet_clean_up(volunteer_df,default_r,buffer_radius)\n",
    "    v_df['icon']='location'\n",
    "    r_df = sheet_clean_up(requests_df,default_r,buffer_radius)\n",
    "    r_df = r_df[r_df['Task Status']=='Pending']\n",
    "    r_df['icon']='home'\n",
    "    map_1 = keplergl.KeplerGl(height=800,data={'volunteer_data':v_df[v_df['Lat']!=0],'requests_data':r_df[r_df['Lat']!=0]})\n",
    "    print('The Map contains ', v_df[v_df['Lat']!=0].shape[0],' volunteers and ', r_df[r_df['Lat']!=0].shape[0], ' pending requests')\n",
    "    #variable live_config is defined when \"file\" is executed\n",
    "    map_1.config = live_config\n",
    "    map_1.save_to_html(file_name='output/share_and_survive_v0.html')\n",
    "    #Processing Data\n",
    "    return v_df, r_df, map_1"
   ]
  },
  {
   "cell_type": "code",
   "execution_count": 6,
   "metadata": {},
   "outputs": [
    {
     "name": "stdout",
     "output_type": "stream",
     "text": [
      "User Guide: https://github.com/keplergl/kepler.gl/blob/master/docs/keplergl-jupyter/user-guide.md\n",
      "The Map contains  20  volunteers and  7  pending requests\n",
      "Map saved to output/share_and_survive_v0.html!\n"
     ]
    }
   ],
   "source": [
    "v_df, r_df, map_1=main()"
   ]
  },
  {
   "cell_type": "code",
   "execution_count": null,
   "metadata": {},
   "outputs": [],
   "source": []
  }
 ],
 "metadata": {
  "kernelspec": {
   "display_name": "Python 3",
   "language": "python",
   "name": "python3"
  },
  "language_info": {
   "codemirror_mode": {
    "name": "ipython",
    "version": 3
   },
   "file_extension": ".py",
   "mimetype": "text/x-python",
   "name": "python",
   "nbconvert_exporter": "python",
   "pygments_lexer": "ipython3",
   "version": "3.7.6"
  }
 },
 "nbformat": 4,
 "nbformat_minor": 4
}
