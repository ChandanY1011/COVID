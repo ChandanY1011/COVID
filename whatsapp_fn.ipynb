{
 "cells": [
  {
   "cell_type": "code",
   "execution_count": null,
   "metadata": {},
   "outputs": [],
   "source": [
    "import requests\n",
    "import json\n",
    "from settings import server_type, whatsapp_api_url, whatsapp_api_password,auth_code"
   ]
  },
  {
   "cell_type": "code",
   "execution_count": null,
   "metadata": {},
   "outputs": [],
   "source": []
  },
  {
   "cell_type": "code",
   "execution_count": null,
   "metadata": {},
   "outputs": [],
   "source": [
    "#Where to get this from\n",
    "def get_auth_key():\n",
    "    url=whatsapp_api_url+\"/v1/users/login\"\n",
    "    payload = {\"new_password\": whatsapp_api_password}\n",
    "    headers = {\n",
    "        'Content-Type': 'application/json',\n",
    "        'Authorization': 'Basic <base64(username:password)>',\n",
    "        'Authorization': auth_code\n",
    "            }\n",
    "    response = requests.request(\"POST\", url, headers=headers, data = json.dumps(payload),verify=False)\n",
    "    rs=response.text\n",
    "    json_data=json.loads(rs)\n",
    "    return json_data[\"users\"][0][\"token\"]\n"
   ]
  },
  {
   "cell_type": "code",
   "execution_count": null,
   "metadata": {},
   "outputs": [],
   "source": [
    "def send_whatsapp_message(url,to,message,preview_url=False):\n",
    "    url = url+'/v1/messages'\n",
    "    authkey = get_auth_key()\n",
    "    ##print(\"Inside message\")\n",
    "    data = {\"to\": to,\"type\": \"text\",\"recipient_type\":\"individual\",\"text\":{\"body\":message},\"preview_url\":preview_url}\n",
    "    headers = {'Content-type': 'application/json', 'Authorization': \"Bearer \"+authkey}\n",
    "    try:\n",
    "        response = requests.request(\"POST\", url, data=json.dumps(data), headers=headers,verify = False)\n",
    "        print(\"message sent\")\n",
    "    except Exception as e:\n",
    "        print(e)\n",
    "    return response\n",
    "\n",
    "def send_whatsapp_message_image(url,to,media_link,media_caption):\n",
    "    url = url+'/v1/messages'\n",
    "    authkey = get_auth_key()\n",
    "    ##print(\"Inside message\")\n",
    "    data = {\"to\": to,\"type\": \"image\",\"recipient_type\":\"individual\",\"image\": {\"provider\": {\"name\": \"covidsos\"},\"link\": \"<Link to Image, https>\",\"caption\": \"<Media Caption>\"}}\n",
    "    headers = {'Content-type': 'application/json', 'Authorization': \"Bearer \"+authkey}\n",
    "    try:\n",
    "        response = requests.request(\"POST\", url, data=json.dumps(data), headers=headers,verify = False)\n",
    "        print(\"message sent\")\n",
    "        if(str(response)=='<Response [201]>'):\n",
    "            output = {'Response':json.loads(response.text)['messages'],'status':True,'string_response':'Successfully sent'}\n",
    "    except Exception as e:\n",
    "        output = {'Response':{},'status':False,'string_response':'Failure'}\n",
    "        print(e)\n",
    "    return output\n"
   ]
  },
  {
   "cell_type": "code",
   "execution_count": null,
   "metadata": {},
   "outputs": [],
   "source": [
    "\n",
    "# x =send_whatsapp_message(whatsapp_api_url,'919582148040','Testing message')\n"
   ]
  },
  {
   "cell_type": "code",
   "execution_count": null,
   "metadata": {},
   "outputs": [],
   "source": []
  },
  {
   "cell_type": "code",
   "execution_count": null,
   "metadata": {},
   "outputs": [],
   "source": []
  }
 ],
 "metadata": {
  "kernelspec": {
   "display_name": "Python 3",
   "language": "python",
   "name": "python3"
  },
  "language_info": {
   "codemirror_mode": {
    "name": "ipython",
    "version": 3
   },
   "file_extension": ".py",
   "mimetype": "text/x-python",
   "name": "python",
   "nbconvert_exporter": "python",
   "pygments_lexer": "ipython3",
   "version": "3.7.6"
  }
 },
 "nbformat": 4,
 "nbformat_minor": 4
}
